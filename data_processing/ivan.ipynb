{
 "cells": [
  {
   "cell_type": "markdown",
   "metadata": {},
   "source": [
    "Tutaj ja namagam się przetworzyć dane tekstowe w kształt macierzy (c) Ivan"
   ]
  },
  {
   "cell_type": "code",
   "execution_count": 1,
   "metadata": {},
   "outputs": [
    {
     "name": "stderr",
     "output_type": "stream",
     "text": [
      "Warming up PyWSD (takes ~10 secs)... took 2.759860038757324 secs.\n",
      "[nltk_data] Downloading package punkt to\n",
      "[nltk_data]     /Users/ivansmaliakou/nltk_data...\n",
      "[nltk_data]   Package punkt is already up-to-date!\n",
      "[nltk_data] Downloading package averaged_perceptron_tagger to\n",
      "[nltk_data]     /Users/ivansmaliakou/nltk_data...\n",
      "[nltk_data]   Package averaged_perceptron_tagger is already up-to-\n",
      "[nltk_data]       date!\n"
     ]
    },
    {
     "data": {
      "text/plain": [
       "True"
      ]
     },
     "execution_count": 1,
     "metadata": {},
     "output_type": "execute_result"
    }
   ],
   "source": [
    "import numpy as np\n",
    "import pandas as pd\n",
    "import nltk\n",
    "from matplotlib import pyplot as plt\n",
    "from tqdm import tqdm\n",
    "\n",
    "from sklearn.feature_extraction.text import TfidfVectorizer,CountVectorizer\n",
    "from sklearn.decomposition import PCA\n",
    "from statsmodels.graphics.gofplots import qqplot\n",
    "from scipy.stats import norm, uniform\n",
    "from pywsd.utils import lemmatize_sentence\n",
    "\n",
    "pd.set_option('display.max_columns', None)\n",
    "nltk.download('punkt')\n",
    "nltk.download('averaged_perceptron_tagger')\n"
   ]
  },
  {
   "cell_type": "code",
   "execution_count": 2,
   "metadata": {},
   "outputs": [],
   "source": [
    "df = pd.read_csv('../data/processed_data/processed_data.csv')"
   ]
  },
  {
   "cell_type": "code",
   "execution_count": 3,
   "metadata": {},
   "outputs": [],
   "source": [
    "text_data = df.loc[:, df.dtypes == 'object']"
   ]
  },
  {
   "cell_type": "code",
   "execution_count": 4,
   "metadata": {},
   "outputs": [
    {
     "data": {
      "text/plain": [
       "array(['THE RELEASE OCCURRED NEAR A NORMALLY DRY DRAINAGE DITCH THAT ONLY FLOWS DURING HEAVY RAINY CONDITIONS. IT WAS IDENTIFIED BY THE LAND OWNER WHO NOTIFIED THE OPERATOR.  THE REPAIRS HAVE BEEN MADE AND CLEANED UP. THE CAUSE OF THE LEAK IS BELIEVED TO HAVE BEEN EXTERNAL CORROSION AT ANY ABOVE GROUND EXPOSURE.',\n",
       "       \"ON DECEMBER 30, 2022, A CENTURION PIPELINE, L.P. (CPL) EMPLOYEE DISCOVERED A LEAK ON A 2'' UNION. THE CPL EMPLOYEE ARRIVED ON-SITE AT 08:35 AM AND CONFIRMED THE LEAK WAS INSIDE CPL'S MIDKIFF STATION LOCATED NEAR MIDLAND, IN MIDLAND COUNTY, TEXAS. THREE (3.4) BARRELS OF CRUDE OIL WERE RELEASED AND RECOVERED DURING THE PROCESS. CPL REMEDIATED THE CONTAMINATED SOIL ON SITE. NO INJURIES, FATALITIES OR FIRES WERE ASSOCIATED WITH THIS INCIDENT. CPL'S INVESTIGATION DETERMINED THAT THAT CROSS THREADING OCCURRED WHEN THE NUT WAS THREADED ONTO THE UNION BODY. THERE WAS VISIBLE DAMAGE TO THE THREADS ON THE MALE END OF THE BODY INDICATING THAT CROSS THREADING OCCURRED DUE TO MISALIGNMENT BETWEEN THE NUT AND THE BODY WHEN ASSEMBLED TOGETHER. THIS PREVENTED THE NUT FROM FULLY SEALING THE TWO PARTS TOGETHER, ALLOWING THE FLUID TO LEAK OUT OF THE UNION WHERE THE TWO BODIES SEAT TOGETHER. THE UNION BODY WAS REPLACED ON DECEMBER 30, 2022 AND NO FURTHER ACTIONS ARE REQUIRED.\",\n",
       "       'THE RELEASE WAS THE RESULT OF THE FAILURE OF A 2\" FLANGED BALL VALVE CONNECTION.  CRUDE OIL WAS RELEASED FROM THE FAILED CONNECTION ASSOCIATED WITH A LAUNCHER ON A GATHERING TO THE MCALPINE-GRISHAM LEASE.   THE RELEASE WAS IDENTIFIED BY OPERATING PERSONNEL.  ALL RELEASED CRUDE REMAINED ON OPERATOR PROPERTY. THE CAUSE OF THE FAILURE IS BELIEVED TO BE A MANUFACTURE DEFECT. THE VALVE WAS REMOVED AND THE FLANGED WAS BLINDED OFF.',\n",
       "       ...,\n",
       "       'THIRD PARTY NOTIFIED DCP MIDSTREAM LOCAL REPRESENTATIVE OF L-1-43-14 LOOP LINE FAILURE. DCP MIDSTREAM OPERATOR ISOLATED LINE. INCIDENT WAS CONFIRMED REPORTABLE BY GAS LOSS CALCULATION ON 06/06/22 AT 19:40.  INCIDENT WAS TELEPHONICALLY REPORTED TO TRRC AT TIME OF GAS LOSS CALCULATION VERIFICATION. TRRC INCIDENT NUMBER 2629.     PIPE SENT FOR METALLURGICAL EVALUATION AND FINAL REPORT RECEIVED ON 09/19/2022. METALLURGICAL REPORT INDICATES TOP OF THE LINE CORROSION FROM ACID GAS.     PIPELINE RETURN TO SERVICE WITH A REDUCED OPERATING PRESSURE BASED ON CALCULATED SAFETY MARGIN FROM FAILURE PRESSURE.',\n",
       "       'ON MAY 25, 2022, AT 20:30 CDST PL CONTROL REQUESTED OPERATIONS INVESTIGATE A POSSIBLE LEAK ON THE GAS GATHERING PIPELINE PT-1-6. AT 21:00 A PIPELINE TECHNICIAN ARRIVED AND IDENTIFIED A LEAK ORIGINATING FROM CASING VENTS ON EITHER SIDE OF STATE HIGHWAY 350. THE TECHNICIAN ISOLATED THE LINE SEGMENT BY 21:30.     AT 23:42, ENTERPRISE NOTIFIED THE LOCAL POLICE TO CLOSE HIGHWAY 350. THE ROAD CLOSURE WAS DEEMED A SIGNIFICANT EVENT, AS A RESULT, NOTIFICATIONS WERE MADE TO NRC (#1337023 @ 00:14; #1337138 @ 48HRS) AND THE TRRC (#2623 @ 00:21). THE ROAD REOPENED ON MAY 26 AT 09:00.     THE FAILURE SEGMENT WAS CUT OUT AND REPLACED ON JUNE 15, 2022 AND PLACED BACK IN-SERVICE.      A VISUAL EXAMINATION OF THE PIPE SEGMENT DETERMINED THAT THE FUSION BUTTWELD FAILED BETWEEN TWO PE PIPES FROM THE INSTALLATION OF THE PIPELINE.',\n",
       "       \"ON 5/17/2022,  AT APPROXIMATELY 19:00, A PRODUCER CONTACTED ENABLE PIPELINE TECHNICIAN CONCERNING A SMALL GAS IMBALANCE BETWEEN HIS METER AND ETC METER. THE METER WAS CHECKED ON THE MORNING OF 5/18/22, BUT NO MEASUREMENT EQUIPMENT ISSUES WERE IDENTIFIED.  PIPELINE TECHNICIAN THEN INVESTIGATED BY PATROLLING THE AO-70 4-INCH PIPELINE RIGHT OF WAY AND DISCOVERED A LEAK AT APPROXIMATELY 11:15.  PIPELINE WAS SHUT IN IMMEDIATELY BY MANUALLY CLOSING THE UPSTREAM AND DOWNSTREAM VALVES AT 11:30 AND 11:50. THE PIPELINE WAS UNCOVERED, AND A SMALL PINHOLE LEAK, APPROXIMATELY 100 THOUSANDTHS IN SIZE, WAS REPAIRED BY INSTALLING A CLAMP. THE PIPELINE WAS RESTARTED AT 19:00 ON 5/18/2022 AND PATROLLED AGAIN, NO ADDITIONAL LEAKS WERE IDENTIFIED.    CLEANUP REMEDIATION BEGAN ON 5/18/2022, ESTIMATED COSTS WERE WELL BELOW THE REPORTING THRESHOLD.  THE COST OF REMEDIATION THEN EXCEEDED THE $122,000 THRESHOLD ON 6/1/2022 AND THE INCIDENT WAS CLASSIFIED AS REPORTABLE AT THAT TIME. NOTIFICATION TO TEXAS RAILROAD COMMISSION OIL & GAS DIVISION WAS PREVIOUSLY MADE ON 5/18/2022 REGARDING THE CONDENSATE SPILL (ENVIRONMENTAL). TELEPHONIC NOTIFICATIONS WERE MADE TO NRC AND TEXAS RAILROAD COMMISSION PIPELINE SAFETY ON 6/1/2022 WHEN THE PIPELINE SAFETY INCIDENT (191.3) CRITERIA WAS MET. REMEDIATION HAS BEEN COMPLETED.    AFTER ET MET WITH PHMSA/PIERZINA ON 9/13/22, INCIDENT REPORT DATES AND TIMES WERE REVISED FOR THE A.4 AND A.13 ENTRIES, PER MR. PIERZINA' S INSTRUCTIONS. THESE REVISIONS PUSHED THE 'EARLIEST LOCAL TIME (24-HR CLOCK) AND DATE AN INCIDENT REPORTING CRITERIA WAS MET' BACK TO 5/17/22, BEFORE THE COST CRITERIA WAS MET.\"],\n",
       "      dtype=object)"
      ]
     },
     "execution_count": 4,
     "metadata": {},
     "output_type": "execute_result"
    }
   ],
   "source": [
    "narrative = df['NARRATIVE'].values\n",
    "narrative"
   ]
  },
  {
   "cell_type": "code",
   "execution_count": 5,
   "metadata": {},
   "outputs": [],
   "source": [
    "df['NARRATIVE'] = df['NARRATIVE'].fillna('')\n",
    "narrative = df['NARRATIVE']"
   ]
  },
  {
   "cell_type": "code",
   "execution_count": 6,
   "metadata": {},
   "outputs": [
    {
     "name": "stderr",
     "output_type": "stream",
     "text": [
      "100%|██████████| 8134/8134 [03:01<00:00, 44.87it/s]\n"
     ]
    }
   ],
   "source": [
    "narrative_sentences = []\n",
    "for raw_sent in tqdm(narrative):\n",
    "    narrative_sentences.append(lemmatize_sentence(raw_sent))"
   ]
  },
  {
   "cell_type": "code",
   "execution_count": 7,
   "metadata": {},
   "outputs": [],
   "source": [
    "for i in range(len(narrative_sentences)):\n",
    "    narrative_sentences[i] = ''.join(narrative_sentences[i])"
   ]
  },
  {
   "cell_type": "code",
   "execution_count": 8,
   "metadata": {},
   "outputs": [],
   "source": [
    "tfidfvectorizer = TfidfVectorizer(analyzer='word',stop_words= 'english')\n",
    "tfidf_wm = tfidfvectorizer.fit_transform(narrative_sentences)\n",
    "tfidf_tokens = tfidfvectorizer.get_feature_names_out()\n",
    "df_tfidfvect = pd.DataFrame(data = tfidf_wm.toarray(),columns = tfidf_tokens)"
   ]
  },
  {
   "cell_type": "code",
   "execution_count": 16,
   "metadata": {},
   "outputs": [],
   "source": [
    "pca = PCA(svd_solver='randomized', n_components=500)\n",
    "reduced_tfidf = pca.fit_transform(df_tfidfvect)"
   ]
  },
  {
   "cell_type": "code",
   "execution_count": 30,
   "metadata": {},
   "outputs": [],
   "source": [
    "column_names = [f'narrative_tfidf-{i}' for i in range(500)]\n",
    "tfidf = pd.DataFrame(reduced_tfidf, columns=column_names)\n",
    "joined_df = df.join(tfidf)"
   ]
  },
  {
   "cell_type": "code",
   "execution_count": 32,
   "metadata": {},
   "outputs": [],
   "source": [
    "joined_df.to_csv('../data/processed_data/processed_data_tf_idf.ivan.csv')"
   ]
  }
 ],
 "metadata": {
  "kernelspec": {
   "display_name": "AGH_default",
   "language": "python",
   "name": "python3"
  },
  "language_info": {
   "codemirror_mode": {
    "name": "ipython",
    "version": 3
   },
   "file_extension": ".py",
   "mimetype": "text/x-python",
   "name": "python",
   "nbconvert_exporter": "python",
   "pygments_lexer": "ipython3",
   "version": "3.12.2"
  }
 },
 "nbformat": 4,
 "nbformat_minor": 2
}
