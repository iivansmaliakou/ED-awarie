{
 "cells": [
  {
   "cell_type": "code",
   "execution_count": null,
   "metadata": {},
   "outputs": [],
   "source": [
    "import time\n",
    "import datetime\n",
    "import pandas as pd\n",
    "import numpy as np\n",
    "from sklearn.model_selection import train_test_split, KFold\n",
    "from sklearn.dummy import DummyRegressor\n",
    "from sklearn.metrics import r2_score, mean_squared_error\n",
    "from sklearn.linear_model import LinearRegression\n",
    "from sklearn.tree import DecisionTreeRegressor, plot_tree\n",
    "from sklearn.ensemble import RandomForestRegressor, StackingRegressor\n",
    "from sklearn.model_selection import GridSearchCV\n",
    "from sklearn.svm import SVR\n",
    "SEED = 260420010"
   ]
  },
  {
   "cell_type": "code",
   "execution_count": null,
   "metadata": {},
   "outputs": [],
   "source": [
    "df_train = pd.read_csv('NaN_OneHot/processed_data_train.csv')\n",
    "df_valid = pd.read_csv('NaN_OneHot/processed_data_valid.csv')\n",
    "df_test = pd.read_csv('NaN_OneHot/processed_data_test.csv')\n",
    "tf_idf_ds = pd.read_csv('./tf-idf.ivan.csv')\n",
    "df_train_united = df_train.join(tf_idf_ds, how='inner', on='Unnamed: 0',lsuffix='_left', rsuffix='_right')\n",
    "df_valid_united = df_valid.join(tf_idf_ds, how='inner', on='Unnamed: 0',lsuffix='_left', rsuffix='_right')\n",
    "df_test_united = df_test.join(tf_idf_ds, how='inner', on='Unnamed: 0',lsuffix='_left', rsuffix='_right')"
   ]
  },
  {
   "cell_type": "code",
   "execution_count": null,
   "metadata": {},
   "outputs": [],
   "source": [
    "df_train_united = df_train_united.drop(columns=['Unnamed: 0', 'Unnamed: 0_left', 'case_idx', 'NARRATIVE'])\n",
    "df_test_united = df_test_united.drop(columns=['Unnamed: 0', 'Unnamed: 0_left', 'case_idx', 'NARRATIVE'])\n",
    "df_valid_united = df_valid_united.drop(columns=['Unnamed: 0', 'Unnamed: 0_left', 'case_idx', 'NARRATIVE'])"
   ]
  },
  {
   "cell_type": "code",
   "execution_count": null,
   "metadata": {},
   "outputs": [
    {
     "data": {
      "text/plain": [
       "narrative_tfidf-PC-278                                                                                                                   4856\n",
       "case_lon                                                                                                                                 4703\n",
       "case_lat                                                                                                                                 4695\n",
       "inst_age_in_days                                                                                                                         3175\n",
       "TAVG                                                                                                                                     3082\n",
       "case_date                                                                                                                                2987\n",
       "accident_pressure_as_%_mop_psig                                                                                                          2388\n",
       "UNINTENTIONAL_RELEASE_BBLS                                                                                                               2024\n",
       "EST_COST_PROP_DAMAGE                                                                                                                     1644\n",
       "EST_COST_EMERGENCY                                                                                                                       1329\n",
       "ACCIDENT_PSIG                                                                                                                            1143\n",
       "EST_COST_GAS_RELEASED                                                                                                                     848\n",
       "MOP_PSIG                                                                                                                                  765\n",
       "EST_COST_ENVIRONMENTAL                                                                                                                    663\n",
       "INTENTIONAL_RELEASE_BBLS                                                                                                                  547\n",
       "EST_COST_OTHER                                                                                                                            338\n",
       "EST_COST_OPER_PAID                                                                                                                        335\n",
       "INSTALLATION_YEAR                                                                                                                         108\n",
       "NUM_PUB_EVACUATED                                                                                                                          79\n",
       "INJURE                                                                                                                                     11\n",
       "FATAL                                                                                                                                       6\n",
       "COMMODITY_RELEASED_TYPE_REFINED AND/OR PETROLEUM PRODUCT (NON-HVL) WHICH IS A LIQUID AT AMBIENT CONDITIONS                                  2\n",
       "COMMODITY_RELEASED_TYPE_CO2 (CARBON DIOXIDE)                                                                                                2\n",
       "CAUSE_DETAILS_DAMAGE BY OPERATOR OR OPERATOR'S CONTRACTOR NOT RELATED TO EXCAVATION AND NOT DUE TO MOTORIZED VEHICLE/EQUIPMENT DAMAGE       2\n",
       "COMMODITY_RELEASED_TYPE_BIOFUEL / ALTERNATIVE FUEL(INCLUDING ETHANOL BLENDS)                                                                2\n",
       "dtype: int64"
      ]
     },
     "metadata": {},
     "output_type": "display_data"
    }
   ],
   "source": [
    "df_train_united.nunique().sort_values(ascending=False)[500:].head(25) # 500 pierwszych kolumn to są PC z PCA kolumny NARRATIVE.\n",
    "# df_test_united.nunique().sort_values(ascending=False)[500:].head(25) # 500 pierwszych kolumn to są PC z PCA kolumny NARRATIVE.\n",
    "# df_valid_united.nunique().sort_values(ascending=False)[500:].head(25) # 500 pierwszych kolumn to są PC z PCA kolumny NARRATIVE."
   ]
  },
  {
   "cell_type": "code",
   "execution_count": null,
   "metadata": {},
   "outputs": [
    {
     "data": {
      "text/html": [
       "<div>\n",
       "<style scoped>\n",
       "    .dataframe tbody tr th:only-of-type {\n",
       "        vertical-align: middle;\n",
       "    }\n",
       "\n",
       "    .dataframe tbody tr th {\n",
       "        vertical-align: top;\n",
       "    }\n",
       "\n",
       "    .dataframe thead th {\n",
       "        text-align: right;\n",
       "    }\n",
       "</style>\n",
       "<table border=\"1\" class=\"dataframe\">\n",
       "  <thead>\n",
       "    <tr style=\"text-align: right;\">\n",
       "      <th></th>\n",
       "      <th>case_date</th>\n",
       "      <th>INSTALLATION_YEAR</th>\n",
       "    </tr>\n",
       "  </thead>\n",
       "  <tbody>\n",
       "    <tr>\n",
       "      <th>0</th>\n",
       "      <td>2021-02-20</td>\n",
       "      <td>2019-01-01</td>\n",
       "    </tr>\n",
       "    <tr>\n",
       "      <th>1</th>\n",
       "      <td>2011-01-04</td>\n",
       "      <td>1968-01-01</td>\n",
       "    </tr>\n",
       "    <tr>\n",
       "      <th>2</th>\n",
       "      <td>2017-12-13</td>\n",
       "      <td>2012-01-01</td>\n",
       "    </tr>\n",
       "    <tr>\n",
       "      <th>3</th>\n",
       "      <td>2011-03-03</td>\n",
       "      <td>NaN</td>\n",
       "    </tr>\n",
       "    <tr>\n",
       "      <th>4</th>\n",
       "      <td>2013-06-14</td>\n",
       "      <td>1960-01-01</td>\n",
       "    </tr>\n",
       "    <tr>\n",
       "      <th>...</th>\n",
       "      <td>...</td>\n",
       "      <td>...</td>\n",
       "    </tr>\n",
       "    <tr>\n",
       "      <th>4875</th>\n",
       "      <td>2014-03-30</td>\n",
       "      <td>2006-01-01</td>\n",
       "    </tr>\n",
       "    <tr>\n",
       "      <th>4876</th>\n",
       "      <td>2019-04-20</td>\n",
       "      <td>2011-01-01</td>\n",
       "    </tr>\n",
       "    <tr>\n",
       "      <th>4877</th>\n",
       "      <td>2012-03-21</td>\n",
       "      <td>1957-01-01</td>\n",
       "    </tr>\n",
       "    <tr>\n",
       "      <th>4878</th>\n",
       "      <td>2010-07-30</td>\n",
       "      <td>2010-01-01</td>\n",
       "    </tr>\n",
       "    <tr>\n",
       "      <th>4879</th>\n",
       "      <td>2014-01-04</td>\n",
       "      <td>NaN</td>\n",
       "    </tr>\n",
       "  </tbody>\n",
       "</table>\n",
       "<p>4880 rows × 2 columns</p>\n",
       "</div>"
      ],
      "text/plain": [
       "       case_date INSTALLATION_YEAR\n",
       "0     2021-02-20        2019-01-01\n",
       "1     2011-01-04        1968-01-01\n",
       "2     2017-12-13        2012-01-01\n",
       "3     2011-03-03               NaN\n",
       "4     2013-06-14        1960-01-01\n",
       "...          ...               ...\n",
       "4875  2014-03-30        2006-01-01\n",
       "4876  2019-04-20        2011-01-01\n",
       "4877  2012-03-21        1957-01-01\n",
       "4878  2010-07-30        2010-01-01\n",
       "4879  2014-01-04               NaN\n",
       "\n",
       "[4880 rows x 2 columns]"
      ]
     },
     "metadata": {},
     "output_type": "display_data"
    }
   ],
   "source": [
    "df_train_united.loc[:, df_train_united.dtypes == np.dtype('O')]"
   ]
  },
  {
   "cell_type": "code",
   "execution_count": null,
   "metadata": {},
   "outputs": [],
   "source": [
    "df_train_united['case_date'] = df_train_united['case_date'].apply(lambda date: time.mktime(datetime.datetime.strptime(date, \"%Y-%m-%d\").timetuple()) / 86400)\n",
    "df_valid_united['case_date'] = df_valid_united['case_date'].apply(lambda date: time.mktime(datetime.datetime.strptime(date, \"%Y-%m-%d\").timetuple()) / 86400)\n",
    "df_test_united['case_date'] = df_test_united['case_date'].apply(lambda date: time.mktime(datetime.datetime.strptime(date, \"%Y-%m-%d\").timetuple()) / 86400)"
   ]
  },
  {
   "cell_type": "code",
   "execution_count": null,
   "metadata": {},
   "outputs": [
    {
     "data": {
      "text/plain": [
       "0       18677.958333\n",
       "1       14977.958333\n",
       "2       17512.958333\n",
       "3       15035.958333\n",
       "4       15869.916667\n",
       "            ...     \n",
       "4875    16158.958333\n",
       "4876    18005.916667\n",
       "4877    15419.958333\n",
       "4878    14819.916667\n",
       "4879    16073.958333\n",
       "Name: case_date, Length: 4880, dtype: float64"
      ]
     },
     "metadata": {},
     "output_type": "display_data"
    }
   ],
   "source": [
    "df_train_united['case_date']"
   ]
  },
  {
   "cell_type": "markdown",
   "metadata": {},
   "source": [
    "dodajemy roczną cykliczność naszym danym "
   ]
  },
  {
   "cell_type": "code",
   "execution_count": null,
   "metadata": {},
   "outputs": [],
   "source": [
    "df_train_united['case_date_sin'] = np.sin(2*np.pi * df_train_united['case_date'] / 365)\n",
    "df_valid_united['case_date_sin'] = np.sin(2*np.pi * df_valid_united['case_date'] / 365)\n",
    "df_test_united['case_date_sin'] = np.sin(2*np.pi * df_test_united['case_date'] / 365)"
   ]
  },
  {
   "cell_type": "code",
   "execution_count": null,
   "metadata": {},
   "outputs": [
    {
     "data": {
      "text/plain": [
       "case_lat                  0\n",
       "narrative_tfidf-PC-253    0\n",
       "narrative_tfidf-PC-255    0\n",
       "narrative_tfidf-PC-256    0\n",
       "narrative_tfidf-PC-257    0\n",
       "                         ..\n",
       "narrative_tfidf-PC-19     0\n",
       "narrative_tfidf-PC-20     0\n",
       "narrative_tfidf-PC-21     0\n",
       "narrative_tfidf-PC-22     0\n",
       "case_date_sin             0\n",
       "Length: 724, dtype: int64"
      ]
     },
     "metadata": {},
     "output_type": "display_data"
    }
   ],
   "source": [
    "df_test_united.apply(lambda col: (col == np.inf).sum()).sort_values(ascending=False)"
   ]
  },
  {
   "cell_type": "code",
   "execution_count": null,
   "metadata": {},
   "outputs": [
    {
     "data": {
      "text/plain": [
       "INSTALLATION_YEAR         426\n",
       "ACCIDENT_PSIG             161\n",
       "case_lat                    0\n",
       "narrative_tfidf-PC-263      0\n",
       "narrative_tfidf-PC-255      0\n",
       "                         ... \n",
       "narrative_tfidf-PC-21       0\n",
       "narrative_tfidf-PC-22       0\n",
       "narrative_tfidf-PC-23       0\n",
       "narrative_tfidf-PC-24       0\n",
       "case_date_sin               0\n",
       "Length: 724, dtype: int64"
      ]
     },
     "metadata": {},
     "output_type": "display_data"
    }
   ],
   "source": [
    "df_valid_united.isna().sum().sort_values(ascending=False)"
   ]
  },
  {
   "cell_type": "code",
   "execution_count": null,
   "metadata": {},
   "outputs": [],
   "source": [
    "df_train_united[df_train_united['accident_pressure_as_%_mop_psig'] == np.inf] = 5.56553\n",
    "df_valid_united[df_valid_united['accident_pressure_as_%_mop_psig'] == np.inf] = 5.56553\n",
    "df_test_united[df_test_united['accident_pressure_as_%_mop_psig'] == np.inf] = 5.56553"
   ]
  },
  {
   "cell_type": "code",
   "execution_count": null,
   "metadata": {},
   "outputs": [],
   "source": [
    "df_train_united[df_train_united['accident_pressure_as_%_mop_psig'] == 5.56553] = df_train_united['accident_pressure_as_%_mop_psig'].max()\n",
    "df_valid_united[df_valid_united['accident_pressure_as_%_mop_psig'] == 5.56553] = df_valid_united['accident_pressure_as_%_mop_psig'].max()\n",
    "df_test_united[df_test_united['accident_pressure_as_%_mop_psig'] == 5.56553] = df_test_united['accident_pressure_as_%_mop_psig'].max()"
   ]
  }
 ],
 "metadata": {
  "language_info": {
   "name": "python"
  }
 },
 "nbformat": 4,
 "nbformat_minor": 2
}
