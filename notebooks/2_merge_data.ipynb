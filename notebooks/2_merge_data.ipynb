{
 "cells": [
  {
   "cell_type": "markdown",
   "id": "abe675ae-878d-4440-83b7-3b7c682ec0c0",
   "metadata": {},
   "source": [
    "W tym notebooku będzie kod generujący tabelę zawierającą połączone dane wejściowe: dane o awariach oraz dane meteo.\n",
    "Jego outputem będzie plik merged_data.csv"
   ]
  }
 ],
 "metadata": {
  "kernelspec": {
   "display_name": "projekt_ed",
   "language": "python",
   "name": "projekt_ed"
  },
  "language_info": {
   "codemirror_mode": {
    "name": "ipython",
    "version": 3
   },
   "file_extension": ".py",
   "mimetype": "text/x-python",
   "name": "python",
   "nbconvert_exporter": "python",
   "pygments_lexer": "ipython3",
   "version": "3.11.8"
  }
 },
 "nbformat": 4,
 "nbformat_minor": 5
}
