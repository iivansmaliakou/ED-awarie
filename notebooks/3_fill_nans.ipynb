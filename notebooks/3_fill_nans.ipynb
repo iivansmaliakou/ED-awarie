{
 "cells": [
  {
   "cell_type": "markdown",
   "id": "1323486e-d34f-43c7-97fe-b8052b7e66d1",
   "metadata": {},
   "source": [
    "W tym notebooku chcemy mieć kod, który w danych merged_data.csv uzupełnia wartości NaN i generuje plik filled_nans.csv"
   ]
  }
 ],
 "metadata": {
  "kernelspec": {
   "display_name": "projekt_ed",
   "language": "python",
   "name": "projekt_ed"
  },
  "language_info": {
   "codemirror_mode": {
    "name": "ipython",
    "version": 3
   },
   "file_extension": ".py",
   "mimetype": "text/x-python",
   "name": "python",
   "nbconvert_exporter": "python",
   "pygments_lexer": "ipython3",
   "version": "3.11.8"
  }
 },
 "nbformat": 4,
 "nbformat_minor": 5
}
