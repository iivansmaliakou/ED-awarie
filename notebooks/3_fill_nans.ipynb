{
 "cells": [
  {
   "cell_type": "code",
   "execution_count": 2,
   "metadata": {},
   "outputs": [],
   "source": [
    "import time\n",
    "import datetime\n",
    "\n",
    "import pandas as pd\n",
    "import numpy as np\n",
    "from sklearn.model_selection import train_test_split\n",
    "from sklearn.tree import DecisionTreeRegressor\n",
    "\n",
    "SEED = 260420010"
   ]
  },
  {
   "cell_type": "code",
   "execution_count": 3,
   "metadata": {},
   "outputs": [],
   "source": [
    "df = pd.read_csv('../data/2_merged/merged_data.csv')\n",
    "df = df.sample(frac=1, replace=False, random_state=SEED)"
   ]
  },
  {
   "cell_type": "code",
   "execution_count": 5,
   "metadata": {},
   "outputs": [
    {
     "data": {
      "text/plain": [
       "<Axes: >"
      ]
     },
     "execution_count": 5,
     "metadata": {},
     "output_type": "execute_result"
    },
    {
     "data": {
      "image/png": "[encoded data removed]",
      "text/plain": [
       "<Figure size 640x480 with 1 Axes>"
      ]
     },
     "metadata": {},
     "output_type": "display_data"
    }
   ],
   "source": [
    "df['inst_age_in_days'].fillna(df['inst_age_in_days'].mean()).hist(bins=20)"
   ]
  },
  {
   "cell_type": "code",
   "execution_count": 16,
   "metadata": {},
   "outputs": [],
   "source": [
    "def process_date(df: pd.DataFrame):\n",
    "    df['case_date'] = df['case_date'].apply(lambda date: time.mktime(datetime.datetime.strptime(date, \"%Y-%m-%d\").timetuple()) / 86400)\n",
    "    \n",
    "    # uwzględniamy roczną cykliczność naszym danym \n",
    "    df['case_date_sin'] = np.sin(2*np.pi * df['case_date'] / 365)\n",
    "    return df"
   ]
  },
  {
   "cell_type": "code",
   "execution_count": 17,
   "metadata": {},
   "outputs": [],
   "source": [
    "df['INSTALLATION_YEAR'] = df['INSTALLATION_YEAR'].apply(lambda s: int(s.split('-')[0]) if type(s) is str else s)\n",
    "df = process_date(df)"
   ]
  },
  {
   "cell_type": "code",
   "execution_count": 18,
   "metadata": {},
   "outputs": [],
   "source": [
    "train_df = df.head(int(df.shape[0] * 0.6))\n",
    "valid_df = df.tail(int(df.shape[0] * 0.2))\n",
    "test_df = df.iloc[int(df.shape[0] * 0.6)+1: int(df.shape[0] * 0.8)]"
   ]
  },
  {
   "cell_type": "code",
   "execution_count": 19,
   "metadata": {},
   "outputs": [
    {
     "name": "stdout",
     "output_type": "stream",
     "text": [
      "Kolumny zawierające wartości NaN:\n",
      "['INSTALLATION_YEAR', 'COMMODITY_RELEASED_TYPE', 'INTENTIONAL_RELEASE_BBLS', 'UNINTENTIONAL_RELEASE_BBLS', 'ON_OFF_SHORE', 'EXPLODE_IND', 'NUM_PUB_EVACUATED', 'FEDERAL', 'LOCATION_TYPE', 'CROSSING', 'ITEM_INVOLVED', 'MATERIAL_INVOLVED', 'EST_COST_OPER_PAID', 'EST_COST_GAS_RELEASED', 'EST_COST_PROP_DAMAGE', 'EST_COST_EMERGENCY', 'EST_COST_ENVIRONMENTAL', 'EST_COST_OTHER', 'NARRATIVE', 'SYSTEM_PART_INVOLVED', 'INCIDENT_AREA_TYPE', 'PIPE_FACILITY_TYPE', 'inst_age_in_days', 'RELEASE_TYPE', 'COULD_BE_HCA', 'ACCIDENT_PSIG', 'MOP_PSIG', 'PIPELINE_FUNCTION', 'SCADA_IN_PLACE_IND', 'INVESTIGATION_STATUS', 'EMPLOYEE_DRUG_TEST_IND', 'CONTRACTOR_DRUG_TEST_IND']\n",
      "Procent NaN w kolumnie INSTALLATION_YEAR: 28.09%\n",
      "Procent NaN w kolumnie COMMODITY_RELEASED_TYPE: 1.19%\n",
      "Procent NaN w kolumnie INTENTIONAL_RELEASE_BBLS: 58.66%\n",
      "Procent NaN w kolumnie UNINTENTIONAL_RELEASE_BBLS: 0.92%\n",
      "Procent NaN w kolumnie ON_OFF_SHORE: 16.65%\n",
      "Procent NaN w kolumnie EXPLODE_IND: 12.79%\n",
      "Procent NaN w kolumnie NUM_PUB_EVACUATED: 6.85%\n",
      "Procent NaN w kolumnie FEDERAL: 2.99%\n",
      "Procent NaN w kolumnie LOCATION_TYPE: 2.99%\n",
      "Procent NaN w kolumnie CROSSING: 12.06%\n",
      "Procent NaN w kolumnie ITEM_INVOLVED: 16.65%\n",
      "Procent NaN w kolumnie MATERIAL_INVOLVED: 9.07%\n",
      "Procent NaN w kolumnie EST_COST_OPER_PAID: 0.27%\n",
      "Procent NaN w kolumnie EST_COST_GAS_RELEASED: 36.56%\n",
      "Procent NaN w kolumnie EST_COST_PROP_DAMAGE: 0.16%\n",
      "Procent NaN w kolumnie EST_COST_EMERGENCY: 0.16%\n",
      "Procent NaN w kolumnie EST_COST_ENVIRONMENTAL: 36.61%\n",
      "Procent NaN w kolumnie EST_COST_OTHER: 0.54%\n",
      "Procent NaN w kolumnie NARRATIVE: 0.53%\n",
      "Procent NaN w kolumnie SYSTEM_PART_INVOLVED: 2.45%\n",
      "Procent NaN w kolumnie INCIDENT_AREA_TYPE: 5.43%\n",
      "Procent NaN w kolumnie PIPE_FACILITY_TYPE: 2.45%\n",
      "Procent NaN w kolumnie inst_age_in_days: 28.09%\n",
      "Procent NaN w kolumnie RELEASE_TYPE: 2.45%\n",
      "Procent NaN w kolumnie COULD_BE_HCA: 19.20%\n",
      "Procent NaN w kolumnie ACCIDENT_PSIG: 11.53%\n",
      "Procent NaN w kolumnie MOP_PSIG: 11.79%\n",
      "Procent NaN w kolumnie PIPELINE_FUNCTION: 19.20%\n",
      "Procent NaN w kolumnie SCADA_IN_PLACE_IND: 11.53%\n",
      "Procent NaN w kolumnie INVESTIGATION_STATUS: 11.52%\n",
      "Procent NaN w kolumnie EMPLOYEE_DRUG_TEST_IND: 2.56%\n",
      "Procent NaN w kolumnie CONTRACTOR_DRUG_TEST_IND: 2.56%\n"
     ]
    }
   ],
   "source": [
    "nan_columns = df.columns[df.isna().any()].tolist()\n",
    "\n",
    "if len(nan_columns) == 0:\n",
    "        print(\"Nie ma wartości NaN w żadnej kolumnie.\")\n",
    "else:\n",
    "    print(\"Kolumny zawierające wartości NaN:\")\n",
    "    print(nan_columns)\n",
    "\n",
    "    # Obliczanie procentowego udziału wartości NaN w każdej kolumnie\n",
    "    for col in nan_columns:\n",
    "        nan_percentage = (df[col].isna().sum() / len(df)) * 100\n",
    "        print(f\"Procent NaN w kolumnie {col}: {nan_percentage:.2f}%\")"
   ]
  },
  {
   "cell_type": "markdown",
   "metadata": {},
   "source": [
    "## Uzupełnienie zmiennych"
   ]
  },
  {
   "cell_type": "code",
   "execution_count": 20,
   "metadata": {},
   "outputs": [],
   "source": [
    "base_on = ['EST_COST_GAS_RELEASED', 'EST_COST_ENVIRONMENTAL', 'accident_pressure_as_%_mop_psig']"
   ]
  },
  {
   "cell_type": "code",
   "execution_count": 21,
   "metadata": {},
   "outputs": [],
   "source": [
    "categorial_values = ['COMMODITY_RELEASED_TYPE', 'ON_OFF_SHORE', 'IGNITE_IND', 'EXPLODE_IND', 'FEDERAL', 'LOCATION_TYPE', 'CROSSING', 'MATERIAL_INVOLVED', 'INCIDENT_AREA_TYPE', 'PIPE_FACILITY_TYPE', \n",
    "                     'RELEASE_TYPE', 'COULD_BE_HCA', 'PIPELINE_FUNCTION', 'SCADA_IN_PLACE_IND', 'INVESTIGATION_STATUS', 'EMPLOYEE_DRUG_TEST_IND', 'CONTRACTOR_DRUG_TEST_IND', 'CAUSE']"
   ]
  },
  {
   "cell_type": "code",
   "execution_count": 22,
   "metadata": {},
   "outputs": [],
   "source": [
    "mean_values = ['UNINTENTIONAL_RELEASE_BBLS', 'MOP_PSIG', 'EST_COST_PROP_DAMAGE', 'EST_COST_EMERGENCY', 'INSTALLATION_YEAR', 'ACCIDENT_PSIG']\n",
    "zero_values = ['INTENTIONAL_RELEASE_BBLS', 'NUM_PUB_EVACUATED', 'EST_COST_OPER_PAID', 'EST_COST_OTHER']"
   ]
  },
  {
   "cell_type": "code",
   "execution_count": 23,
   "metadata": {},
   "outputs": [],
   "source": [
    "without_NaN = ['ITEM_INVOLVED', 'SYSTEM_PART_INVOLVED']"
   ]
  },
  {
   "cell_type": "code",
   "execution_count": 24,
   "metadata": {},
   "outputs": [],
   "source": [
    "deleted = ['CAUSE_DETAILS', 'NARRATIVE', 'zone', 'TAVG']"
   ]
  },
  {
   "cell_type": "code",
   "execution_count": 25,
   "metadata": {},
   "outputs": [],
   "source": [
    "def process_data_numeric(input_df: pd.DataFrame):\n",
    "    for col_name in categorial_values:\n",
    "        mode_value = input_df[col_name].mode()[0]\n",
    "        input_df[col_name] = input_df[col_name].fillna(mode_value)\n",
    "\n",
    "    for col_name in mean_values:\n",
    "        mean_value = input_df[col_name].mean()\n",
    "        input_df[col_name] = input_df[col_name].fillna(mean_value)\n",
    "\n",
    "    for col_name in zero_values:\n",
    "        input_df[col_name] = input_df[col_name].fillna(0)\n",
    "\n",
    "    for col_name in base_on:\n",
    "        mean_value = input_df[col_name].mean()\n",
    "        input_df[col_name] = input_df[col_name].fillna(mean_value)\n",
    "    return input_df"
   ]
  },
  {
   "cell_type": "code",
   "execution_count": 26,
   "metadata": {},
   "outputs": [],
   "source": [
    "df_classification = process_data_numeric(df)\n",
    "df_classification.to_csv('../data/3_fill_nans/processed_data.csv', index=False)"
   ]
  }
 ],
 "metadata": {
  "kernelspec": {
   "display_name": "AGH_default",
   "language": "python",
   "name": "python3"
  },
  "language_info": {
   "codemirror_mode": {
    "name": "ipython",
    "version": 3
   },
   "file_extension": ".py",
   "mimetype": "text/x-python",
   "name": "python",
   "nbconvert_exporter": "python",
   "pygments_lexer": "ipython3",
   "version": "3.12.2"
  }
 },
 "nbformat": 4,
 "nbformat_minor": 2
}
