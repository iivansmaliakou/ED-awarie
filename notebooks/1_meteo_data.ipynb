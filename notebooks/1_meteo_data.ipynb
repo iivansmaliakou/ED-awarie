{
 "cells": [
  {
   "cell_type": "markdown",
   "id": "a9a91ace-da03-4090-89aa-8cb113921821",
   "metadata": {},
   "source": [
    "W tym notebooku będzie kod do pobierania danych meteo."
   ]
  },
  {
   "cell_type": "code",
   "execution_count": null,
   "id": "88665429-d481-4504-abe7-4ada77bab522",
   "metadata": {},
   "outputs": [],
   "source": []
  }
 ],
 "metadata": {
  "kernelspec": {
   "display_name": "projekt_ed",
   "language": "python",
   "name": "projekt_ed"
  },
  "language_info": {
   "codemirror_mode": {
    "name": "ipython",
    "version": 3
   },
   "file_extension": ".py",
   "mimetype": "text/x-python",
   "name": "python",
   "nbconvert_exporter": "python",
   "pygments_lexer": "ipython3",
   "version": "3.11.8"
  }
 },
 "nbformat": 4,
 "nbformat_minor": 5
}
