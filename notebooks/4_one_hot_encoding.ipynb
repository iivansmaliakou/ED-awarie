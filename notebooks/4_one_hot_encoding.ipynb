{
 "cells": [
  {
   "cell_type": "markdown",
   "id": "4f56d75c-73d0-4bba-a51a-864dbceb74e2",
   "metadata": {},
   "source": [
    "W tym notebooku chcemy mieć kod, który na danych filled_nans.csv robi one-hot encoding i generuje plik data_with_ohe.csv"
   ]
  }
 ],
 "metadata": {
  "kernelspec": {
   "display_name": "projekt_ed",
   "language": "python",
   "name": "projekt_ed"
  },
  "language_info": {
   "codemirror_mode": {
    "name": "ipython",
    "version": 3
   },
   "file_extension": ".py",
   "mimetype": "text/x-python",
   "name": "python",
   "nbconvert_exporter": "python",
   "pygments_lexer": "ipython3",
   "version": "3.11.8"
  }
 },
 "nbformat": 4,
 "nbformat_minor": 5
}
