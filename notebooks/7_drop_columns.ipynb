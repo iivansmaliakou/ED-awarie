{
 "cells": [
  {
   "cell_type": "markdown",
   "metadata": {},
   "source": [
    "## DROP COLUMNS"
   ]
  },
  {
   "cell_type": "markdown",
   "metadata": {},
   "source": [
    "We need to drop everything odd, except target variable here, to set up `target` to the predictable column and `with_narrative_tf_idf` to `True`, if you need a `NARRATIVE` tf-idf matrix."
   ]
  },
  {
   "cell_type": "code",
   "execution_count": 3,
   "metadata": {},
   "outputs": [],
   "source": [
    "import pandas as pd"
   ]
  },
  {
   "cell_type": "code",
   "execution_count": 4,
   "metadata": {},
   "outputs": [],
   "source": [
    "target = 'CAUSE'\n",
    "with_narrative_tf_idf = False"
   ]
  },
  {
   "cell_type": "code",
   "execution_count": 7,
   "metadata": {},
   "outputs": [],
   "source": [
    "def drop_columns(df: pd.DataFrame, drop_columns):\n",
    "    df = df.copy()\n",
    "    for drop_col in drop_columns:\n",
    "        to_drop_iter = []\n",
    "        for col_name, _ in df.items():\n",
    "            if col_name.startswith(drop_col):\n",
    "                to_drop_iter.append(col_name)\n",
    "        df = df.drop(columns=to_drop_iter)\n",
    "    return df"
   ]
  },
  {
   "cell_type": "code",
   "execution_count": 8,
   "metadata": {},
   "outputs": [],
   "source": [
    "columns_to_drop=['INTENTIONAL_RELEASE_BBLS', 'UNINTENTIONAL_RELEASE_BBLS', 'FATAL','INJURE', 'IGNITE_IND','EXPLODE_IND','NUM_PUB_EVACUATED', 'ITEM_INVOLVED',\n",
    "                                                    'EST_COST_OPER_PAID', 'EST_COST_GAS_RELEASED', 'EST_COST_PROP_DAMAGE', 'EST_COST_EMERGENCY', 'EST_COST_ENVIRONMENTAL', 'EST_COST_OTHER',\n",
    "                                                    'CAUSE_DETAILS',\t'CAUSE', 'NARRATIVE',\t'SYSTEM_PART_INVOLVED',\t'INCIDENT_AREA_TYPE',\n",
    "                                                    'RELEASE_TYPE', 'ACCIDENT_PSIG', 'accident_pressure_as_%_mop_psig', 'SCADA_IN_PLACE_IND', 'INVESTIGATION_STATUS', 'EMPLOYEE_DRUG_TEST_IND',\n",
    "                                                    'CONTRACTOR_DRUG_TEST_IND', 'case_idx', 'data_source', 'INSTALLATION_YEAR', 'CROSSING', 'COULD_BE_HCA']\n",
    "\n",
    "columns_to_drop.remove(target)\n",
    "df = pd.read_csv('../data/6_fill_with_predictions/processed_data.csv')\n",
    "if with_narrative_tf_idf:\n",
    "    tf_idf = pd.read_csv('../data/5_tf_idf/tf-idf.csv')\n",
    "    df = pd.concat([df, tf_idf], axis=1)\n",
    "df_clean = drop_columns(df, columns_to_drop)"
   ]
  },
  {
   "cell_type": "code",
   "execution_count": 13,
   "metadata": {},
   "outputs": [
    {
     "data": {
      "text/plain": [
       "Index(['case_lat', 'case_lon', 'case_date', 'FEDERAL', 'inst_age_in_days',\n",
       "       'MOP_PSIG', 'TAVG', 'case_date_sin',\n",
       "       'COMMODITY_RELEASED_TYPE_BIOFUEL / ALTERNATIVE FUEL(INCLUDING ETHANOL BLENDS)',\n",
       "       'COMMODITY_RELEASED_TYPE_CO2 (CARBON DIOXIDE)',\n",
       "       'COMMODITY_RELEASED_TYPE_CRUDE OIL',\n",
       "       'COMMODITY_RELEASED_TYPE_HVL OR OTHER FLAMMABLE OR TOXIC FLUID WHICH IS A GAS AT AMBIENT CONDITIONS',\n",
       "       'COMMODITY_RELEASED_TYPE_HYDROGEN GAS',\n",
       "       'COMMODITY_RELEASED_TYPE_LANDFILL GAS',\n",
       "       'COMMODITY_RELEASED_TYPE_NATURAL GAS',\n",
       "       'COMMODITY_RELEASED_TYPE_OTHER GAS',\n",
       "       'COMMODITY_RELEASED_TYPE_PROPANE GAS',\n",
       "       'COMMODITY_RELEASED_TYPE_REFINED AND/OR PETROLEUM PRODUCT (NON-HVL) WHICH IS A LIQUID AT AMBIENT CONDITIONS',\n",
       "       'ON_OFF_SHORE_OFFSHORE', 'ON_OFF_SHORE_ONSHORE',\n",
       "       'LOCATION_TYPE_OPERATOR-CONTROLLED PROPERTY',\n",
       "       'LOCATION_TYPE_ORIGINATED ON OPERATOR-CONTROLLED PROPERTY, BUT THEN FLOWED OR MIGRATED OFF THE PROPERTY',\n",
       "       'LOCATION_TYPE_PIPELINE RIGHT-OF-WAY', 'LOCATION_TYPE_PRIVATE PROPERTY',\n",
       "       'LOCATION_TYPE_PUBLIC PROPERTY',\n",
       "       'LOCATION_TYPE_TOTALLY CONTAINED ON OPERATOR-CONTROLLED PROPERTY',\n",
       "       'LOCATION_TYPE_UTILITY RIGHT-OF-WAY / EASEMENT',\n",
       "       'MATERIAL_INVOLVED_CARBON STEEL', 'MATERIAL_INVOLVED_CAST/WROUGHT IRON',\n",
       "       'MATERIAL_INVOLVED_COPPER', 'MATERIAL_INVOLVED_DUCTILE IRON',\n",
       "       'MATERIAL_INVOLVED_MATERIAL OTHER THAN CARBON STEEL',\n",
       "       'MATERIAL_INVOLVED_MATERIAL OTHER THAN CARBON STEEL OR PLASTIC',\n",
       "       'MATERIAL_INVOLVED_OTHER', 'MATERIAL_INVOLVED_PLASTIC',\n",
       "       'MATERIAL_INVOLVED_STEEL', 'MATERIAL_INVOLVED_UNKNOWN',\n",
       "       'PIPE_FACILITY_TYPE_COOPERATIVE', 'PIPE_FACILITY_TYPE_INTERSTATE',\n",
       "       'PIPE_FACILITY_TYPE_INTRASTATE', 'PIPE_FACILITY_TYPE_INVESTOR OWNED',\n",
       "       'PIPE_FACILITY_TYPE_MUNICIPALLY OWNED', 'PIPE_FACILITY_TYPE_OTHER',\n",
       "       'PIPE_FACILITY_TYPE_PETROLEUM GAS DISTRIBUTION',\n",
       "       'PIPE_FACILITY_TYPE_PRIVATELY OWNED',\n",
       "       'PIPELINE_FUNCTION_< 20% SMYS REGULATED TRANSMISSION',\n",
       "       'PIPELINE_FUNCTION_=< 20% SMYS REGULATED GATHERING',\n",
       "       'PIPELINE_FUNCTION_> 20% SMYS REGULATED GATHERING',\n",
       "       'PIPELINE_FUNCTION_> 20% SMYS REGULATED TRANSMISSION',\n",
       "       'PIPELINE_FUNCTION_OFFSHORE GATHERING',\n",
       "       'PIPELINE_FUNCTION_TRANSMISSION IN STORAGE FIELD',\n",
       "       'PIPELINE_FUNCTION_TRANSMISSION LINE OF DISTRIBUTION SYSTEM',\n",
       "       'PIPELINE_FUNCTION_TRANSMISSION SYSTEM',\n",
       "       'PIPELINE_FUNCTION_TYPE A GATHERING',\n",
       "       'PIPELINE_FUNCTION_TYPE B GATHERING',\n",
       "       'PIPELINE_FUNCTION_TYPE C GATHERING', 'zone_Cold', 'zone_Hot-Dry',\n",
       "       'zone_Hot-Humid', 'zone_Marine', 'zone_Mixed-Dry', 'zone_Mixed-Humid',\n",
       "       'zone_Subarctic', 'zone_Very Cold', 'CAUSE_CORROSION FAILURE',\n",
       "       'CAUSE_EQUIPMENT FAILURE', 'CAUSE_EXCAVATION DAMAGE',\n",
       "       'CAUSE_INCORRECT OPERATION', 'CAUSE_MATERIAL FAILURE OF PIPE OR WELD',\n",
       "       'CAUSE_NATURAL FORCE DAMAGE', 'CAUSE_OTHER ACCIDENT CAUSE',\n",
       "       'CAUSE_OTHER INCIDENT CAUSE', 'CAUSE_OTHER OUTSIDE FORCE DAMAGE',\n",
       "       'CAUSE_PIPE, WELD, OR JOINT FAILURE'],\n",
       "      dtype='object')"
      ]
     },
     "execution_count": 13,
     "metadata": {},
     "output_type": "execute_result"
    }
   ],
   "source": [
    "df_clean.columns"
   ]
  },
  {
   "cell_type": "code",
   "execution_count": null,
   "metadata": {},
   "outputs": [
    {
     "data": {
      "text/plain": [
       "Index(['case_lat', 'case_lon', 'case_date', 'COMMODITY_RELEASED_TYPE',\n",
       "       'ON_OFF_SHORE', 'FEDERAL', 'LOCATION_TYPE', 'MATERIAL_INVOLVED',\n",
       "       'CAUSE', 'PIPE_FACILITY_TYPE', 'inst_age_in_days', 'MOP_PSIG',\n",
       "       'PIPELINE_FUNCTION', 'zone', 'TAVG', 'case_date_sin'],\n",
       "      dtype='object')"
      ]
     },
     "metadata": {},
     "output_type": "display_data"
    }
   ],
   "source": [
    "df_classification.columns"
   ]
  },
  {
   "cell_type": "code",
   "execution_count": null,
   "metadata": {},
   "outputs": [],
   "source": [
    "df_classification.to_csv(f'../data/3_fill_nans/processed_data_classification_{classification_target}_dropped.csv', index=False)"
   ]
  }
 ],
 "metadata": {
  "kernelspec": {
   "display_name": "Python 3",
   "language": "python",
   "name": "python3"
  },
  "language_info": {
   "codemirror_mode": {
    "name": "ipython",
    "version": 3
   },
   "file_extension": ".py",
   "mimetype": "text/x-python",
   "name": "python",
   "nbconvert_exporter": "python",
   "pygments_lexer": "ipython3",
   "version": "3.12.2"
  }
 },
 "nbformat": 4,
 "nbformat_minor": 2
}
