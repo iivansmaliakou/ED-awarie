{
 "cells": [
  {
   "cell_type": "markdown",
   "metadata": {},
   "source": [
    "## DROP COLUMNS"
   ]
  },
  {
   "cell_type": "markdown",
   "metadata": {},
   "source": [
    "We need to drop everything odd, except target variable here, to set up `target` to the predictable column and `with_narrative_tf_idf` to `True`, if you need a `NARRATIVE` tf-idf matrix."
   ]
  },
  {
   "cell_type": "code",
   "execution_count": 31,
   "metadata": {},
   "outputs": [],
   "source": [
    "import pandas as pd"
   ]
  },
  {
   "cell_type": "code",
   "execution_count": 32,
   "metadata": {},
   "outputs": [],
   "source": [
    "target = 'CAUSE'\n",
    "with_narrative_tf_idf = False"
   ]
  },
  {
   "cell_type": "code",
   "execution_count": 33,
   "metadata": {},
   "outputs": [],
   "source": [
    "def drop_columns(df: pd.DataFrame, drop_columns):\n",
    "    df = df.copy()\n",
    "    for drop_col in drop_columns:\n",
    "        to_drop_iter = []\n",
    "        for col_name, _ in df.items():\n",
    "            if col_name.startswith(drop_col):\n",
    "                to_drop_iter.append(col_name)\n",
    "        df = df.drop(columns=to_drop_iter)\n",
    "    return df"
   ]
  },
  {
   "cell_type": "code",
   "execution_count": 34,
   "metadata": {},
   "outputs": [],
   "source": [
    "columns_to_drop=['INTENTIONAL_RELEASE_BBLS', 'UNINTENTIONAL_RELEASE_BBLS', 'FATAL','INJURE', 'IGNITE_IND','EXPLODE_IND','NUM_PUB_EVACUATED', 'ITEM_INVOLVED',\n",
    "                                                    'EST_COST_OPER_PAID', 'EST_COST_GAS_RELEASED', 'EST_COST_PROP_DAMAGE', 'EST_COST_EMERGENCY', 'EST_COST_ENVIRONMENTAL', 'EST_COST_OTHER',\n",
    "                                                    'CAUSE_DETAILS',\t'CAUSE', 'NARRATIVE',\t'SYSTEM_PART_INVOLVED',\t'INCIDENT_AREA_TYPE',\n",
    "                                                    'RELEASE_TYPE', 'ACCIDENT_PSIG', 'accident_pressure_as_%_mop_psig', 'SCADA_IN_PLACE_IND', 'INVESTIGATION_STATUS', 'EMPLOYEE_DRUG_TEST_IND',\n",
    "                                                    'CONTRACTOR_DRUG_TEST_IND', 'case_idx', 'data_source', 'INSTALLATION_YEAR', 'CROSSING', 'COULD_BE_HCA']\n",
    "\n",
    "columns_to_drop.remove(target)\n",
    "df = pd.read_csv('../data/6_fill_with_predictions/processed_data.csv')\n",
    "if with_narrative_tf_idf:\n",
    "    tf_idf = pd.read_csv('../data/5_tf_idf/tf-idf.csv')\n",
    "    df = pd.concat([df, tf_idf], axis=1)\n",
    "df_clean = drop_columns(df, columns_to_drop)"
   ]
  },
  {
   "cell_type": "code",
   "execution_count": 35,
   "metadata": {},
   "outputs": [],
   "source": [
    "def reverse_one_hot_encoding(df: pd.DataFrame, col_to_revert):\n",
    "    df_copy = df.copy()\n",
    "    for col_name in df.columns:\n",
    "        if col_name.startswith(col_to_revert):\n",
    "            col_value = col_name.replace(col_to_revert+'_', '')\n",
    "            df_copy.loc[df[col_name] == 1, col_to_revert] = col_value\n",
    "            df_copy = df_copy.drop([col_name], axis=1)\n",
    "    return df_copy"
   ]
  },
  {
   "cell_type": "code",
   "execution_count": 36,
   "metadata": {},
   "outputs": [],
   "source": [
    "df_clean = reverse_one_hot_encoding(df_clean, target)\n",
    "df_clean.to_csv('../data/7_dropped_unnecessary_columns/processed_data.csv', index=False)"
   ]
  }
 ],
 "metadata": {
  "kernelspec": {
   "display_name": "Python 3",
   "language": "python",
   "name": "python3"
  },
  "language_info": {
   "codemirror_mode": {
    "name": "ipython",
    "version": 3
   },
   "file_extension": ".py",
   "mimetype": "text/x-python",
   "name": "python",
   "nbconvert_exporter": "python",
   "pygments_lexer": "ipython3",
   "version": "3.12.2"
  }
 },
 "nbformat": 4,
 "nbformat_minor": 2
}
