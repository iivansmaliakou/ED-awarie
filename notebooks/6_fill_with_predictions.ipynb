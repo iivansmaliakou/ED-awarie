{
 "cells": [
  {
   "cell_type": "code",
   "execution_count": 49,
   "metadata": {},
   "outputs": [],
   "source": [
    "import pandas as pd\n",
    "import numpy as np\n",
    "from sklearn.model_selection import train_test_split\n",
    "from sklearn.tree import DecisionTreeRegressor\n",
    "from sklearn.linear_model import LinearRegression\n",
    "from sklearn.metrics import r2_score, mean_squared_error\n",
    "SEED = 260420010"
   ]
  },
  {
   "cell_type": "code",
   "execution_count": 50,
   "metadata": {},
   "outputs": [],
   "source": [
    "df = pd.read_csv('../data/4_one_hot/processed_data.csv').drop(['NARRATIVE'], axis=1)"
   ]
  },
  {
   "cell_type": "code",
   "execution_count": 51,
   "metadata": {},
   "outputs": [],
   "source": [
    "def fill_with_predictions(model, df: pd.DataFrame, columns):\n",
    "    df = df.copy()\n",
    "    for col in columns:\n",
    "        X_train, y_train = df.drop([col], axis=1).loc[np.logical_not(df[col].isna())], df[col].loc[np.logical_not(df[col].isna())]\n",
    "        X_test = df.drop([col], axis=1).loc[df[col].isna()]\n",
    "        model.fit(X_train, y_train)\n",
    "        df.loc[df[col].isna(), col] = model.predict(X_test)\n",
    "    return df"
   ]
  },
  {
   "cell_type": "code",
   "execution_count": 52,
   "metadata": {},
   "outputs": [],
   "source": [
    "columns_to_fill_with_predict = ['inst_age_in_days']\n",
    "filling_model = LinearRegression()\n",
    "df = fill_with_predictions(filling_model, df, columns_to_fill_with_predict)"
   ]
  },
  {
   "cell_type": "code",
   "execution_count": 53,
   "metadata": {},
   "outputs": [],
   "source": [
    "df.to_csv('../data/6_fill_with_predictions/processed_data.csv', index=False)"
   ]
  }
 ],
 "metadata": {
  "kernelspec": {
   "display_name": "Python 3",
   "language": "python",
   "name": "python3"
  },
  "language_info": {
   "codemirror_mode": {
    "name": "ipython",
    "version": 3
   },
   "file_extension": ".py",
   "mimetype": "text/x-python",
   "name": "python",
   "nbconvert_exporter": "python",
   "pygments_lexer": "ipython3",
   "version": "3.12.2"
  }
 },
 "nbformat": 4,
 "nbformat_minor": 2
}
