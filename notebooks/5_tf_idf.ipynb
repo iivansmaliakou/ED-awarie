{
 "cells": [
  {
   "cell_type": "markdown",
   "id": "75745d5b",
   "metadata": {},
   "source": [
    "W tym notebooku chcemy mieć kod, który robi tf_idf z Narrative, łączy wynik z pozostałymi danymi i generuje gotowe dane do modelu."
   ]
  },
  {
   "cell_type": "code",
   "execution_count": 1,
   "id": "d2600be4",
   "metadata": {},
   "outputs": [
    {
     "name": "stderr",
     "output_type": "stream",
     "text": [
      "Warming up PyWSD (takes ~10 secs)... took 2.6618850231170654 secs.\n",
      "[nltk_data] Downloading package punkt to\n",
      "[nltk_data]     /Users/ivansmaliakou/nltk_data...\n",
      "[nltk_data]   Package punkt is already up-to-date!\n",
      "[nltk_data] Downloading package averaged_perceptron_tagger to\n",
      "[nltk_data]     /Users/ivansmaliakou/nltk_data...\n",
      "[nltk_data]   Package averaged_perceptron_tagger is already up-to-\n",
      "[nltk_data]       date!\n"
     ]
    },
    {
     "data": {
      "text/plain": [
       "True"
      ]
     },
     "execution_count": 1,
     "metadata": {},
     "output_type": "execute_result"
    }
   ],
   "source": [
    "import numpy as np\n",
    "import pandas as pd\n",
    "import nltk\n",
    "import spacy\n",
    "from matplotlib import pyplot as plt\n",
    "from tqdm import tqdm\n",
    "\n",
    "from sklearn.feature_extraction.text import TfidfVectorizer,CountVectorizer\n",
    "from sklearn.decomposition import PCA\n",
    "from statsmodels.graphics.gofplots import qqplot\n",
    "from scipy.stats import norm, uniform\n",
    "from pywsd.utils import lemmatize_sentence\n",
    "\n",
    "pd.set_option('display.max_columns', None)\n",
    "nltk.download('punkt')\n",
    "nltk.download('averaged_perceptron_tagger')\n"
   ]
  },
  {
   "cell_type": "code",
   "execution_count": 2,
   "id": "35b7790f",
   "metadata": {},
   "outputs": [],
   "source": [
    "df = pd.read_csv('../data/4_one_hot/processed_data.csv')"
   ]
  },
  {
   "cell_type": "code",
   "execution_count": 3,
   "id": "ebf75975",
   "metadata": {},
   "outputs": [],
   "source": [
    "text_data = df.loc[:, df.dtypes == 'object']"
   ]
  },
  {
   "cell_type": "code",
   "execution_count": 4,
   "id": "cff95e7e",
   "metadata": {},
   "outputs": [
    {
     "data": {
      "text/plain": [
       "43"
      ]
     },
     "execution_count": 4,
     "metadata": {},
     "output_type": "execute_result"
    }
   ],
   "source": [
    "df['NARRATIVE'].isna().sum()"
   ]
  },
  {
   "cell_type": "code",
   "execution_count": 5,
   "id": "2a14874b",
   "metadata": {},
   "outputs": [],
   "source": [
    "df['NARRATIVE'] = df['NARRATIVE'].fillna('')"
   ]
  },
  {
   "cell_type": "code",
   "execution_count": 6,
   "id": "d33d87b0",
   "metadata": {},
   "outputs": [
    {
     "name": "stderr",
     "output_type": "stream",
     "text": [
      "100%|██████████| 8134/8134 [03:45<00:00, 36.09it/s]\n"
     ]
    }
   ],
   "source": [
    "nlp = spacy.load('en_core_web_sm')\n",
    "narrative_sentences = []\n",
    "for raw_sent in tqdm(df['NARRATIVE']):\n",
    "    doc = nlp(''.join([word.lower() for word in raw_sent]))\n",
    "    lemmatized_tokens = [token.lemma_ for token in doc]\n",
    "    lemmatized_text = ' '.join(lemmatized_tokens)\n",
    "    narrative_sentences.append(lemmatized_text)"
   ]
  },
  {
   "cell_type": "code",
   "execution_count": 7,
   "id": "e20c6510",
   "metadata": {},
   "outputs": [],
   "source": [
    "tfidfvectorizer = TfidfVectorizer(analyzer='word',stop_words= 'english')\n",
    "tfidf_wm = tfidfvectorizer.fit_transform(narrative_sentences)\n",
    "tfidf_tokens = tfidfvectorizer.get_feature_names_out()\n",
    "df_tfidfvect = pd.DataFrame(data = tfidf_wm.toarray(),columns = tfidf_tokens)"
   ]
  },
  {
   "cell_type": "code",
   "execution_count": 8,
   "id": "ea416e5c",
   "metadata": {},
   "outputs": [
    {
     "data": {
      "text/plain": [
       "valve            393.468904\n",
       "leak             317.642908\n",
       "line             306.344810\n",
       "gas              302.396936\n",
       "pipeline         287.248559\n",
       "release          278.986152\n",
       "pump             253.508477\n",
       "station          232.002137\n",
       "tank             229.311965\n",
       "pipe             200.652560\n",
       "approximately    199.510223\n",
       "cause            189.457526\n",
       "report           189.345526\n",
       "oil              188.972007\n",
       "service          180.709613\n",
       "repair           167.013101\n",
       "product          160.522691\n",
       "crude            158.419888\n",
       "pressure         158.360736\n",
       "seal             158.013205\n",
       "dtype: float64"
      ]
     },
     "execution_count": 8,
     "metadata": {},
     "output_type": "execute_result"
    }
   ],
   "source": [
    "df_tfidfvect.sum(axis=0).sort_values(ascending=False).head(20)"
   ]
  },
  {
   "cell_type": "code",
   "execution_count": 9,
   "id": "4dce79e2",
   "metadata": {},
   "outputs": [],
   "source": [
    "pca = PCA(svd_solver='randomized', n_components=500)\n",
    "reduced_tfidf = pca.fit_transform(df_tfidfvect)"
   ]
  },
  {
   "cell_type": "code",
   "execution_count": 10,
   "id": "35798084",
   "metadata": {},
   "outputs": [
    {
     "data": {
      "text/plain": [
       "(8134, 500)"
      ]
     },
     "execution_count": 10,
     "metadata": {},
     "output_type": "execute_result"
    }
   ],
   "source": [
    "reduced_tfidf.shape"
   ]
  },
  {
   "cell_type": "code",
   "execution_count": 11,
   "id": "682c278e",
   "metadata": {},
   "outputs": [],
   "source": [
    "column_names = [f'narrative_tfidf-PC-{i}' for i in range(500)]\n",
    "tfidf = pd.DataFrame(reduced_tfidf, columns=column_names)\n",
    "tfidf.to_csv('../data/5_tf_idf/tf-idf.csv', index=False)"
   ]
  }
 ],
 "metadata": {
  "kernelspec": {
   "display_name": "AGH_default",
   "language": "python",
   "name": "python3"
  },
  "language_info": {
   "codemirror_mode": {
    "name": "ipython",
    "version": 3
   },
   "file_extension": ".py",
   "mimetype": "text/x-python",
   "name": "python",
   "nbconvert_exporter": "python",
   "pygments_lexer": "ipython3",
   "version": "3.12.2"
  }
 },
 "nbformat": 4,
 "nbformat_minor": 5
}
