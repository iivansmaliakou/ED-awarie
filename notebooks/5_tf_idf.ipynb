{
 "cells": [
  {
   "cell_type": "markdown",
   "id": "f1eecc27-333c-4323-acbd-fac9e60751ee",
   "metadata": {},
   "source": [
    "W tym notebooku chcemy mieć kod, który robi tf_idf z Narrative, łączy wynik z pozostałymi danymi i generuje gotowe dane do modelu."
   ]
  }
 ],
 "metadata": {
  "kernelspec": {
   "display_name": "projekt_ed",
   "language": "python",
   "name": "projekt_ed"
  },
  "language_info": {
   "codemirror_mode": {
    "name": "ipython",
    "version": 3
   },
   "file_extension": ".py",
   "mimetype": "text/x-python",
   "name": "python",
   "nbconvert_exporter": "python",
   "pygments_lexer": "ipython3",
   "version": "3.11.8"
  }
 },
 "nbformat": 4,
 "nbformat_minor": 5
}
