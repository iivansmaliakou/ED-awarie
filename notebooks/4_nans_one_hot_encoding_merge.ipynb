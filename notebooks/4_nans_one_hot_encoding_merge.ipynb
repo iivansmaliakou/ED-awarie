{
 "cells": [
  {
   "cell_type": "code",
   "execution_count": 30,
   "id": "eefb3468",
   "metadata": {},
   "outputs": [],
   "source": [
    "import time\n",
    "import datetime\n",
    "\n",
    "import pandas as pd\n",
    "import numpy as np\n",
    "from sklearn.model_selection import train_test_split\n",
    "\n",
    "SEED = 260420010"
   ]
  },
  {
   "cell_type": "markdown",
   "id": "ee39d6ef",
   "metadata": {},
   "source": [
    "##### NIŻEJ MUSIMY ZDEFINIOWAĆ W ZMIENNĄ `classification_target` TĘ **KATEGORYCZNE** KOLUMNE, KTÓRĄ BĘDZIEMY PRZYWIYWAĆ"
   ]
  },
  {
   "cell_type": "code",
   "execution_count": 31,
   "id": "5640628a",
   "metadata": {},
   "outputs": [],
   "source": [
    "classification_target = 'CAUSE'"
   ]
  },
  {
   "cell_type": "code",
   "execution_count": 32,
   "id": "063ac53e",
   "metadata": {},
   "outputs": [],
   "source": [
    "df = pd.read_csv('../data/2_merged/merged_data.csv')\n",
    "df = df.sample(frac=1, replace=False, random_state=SEED)\n",
    "df['INSTALLATION_YEAR'] = df['INSTALLATION_YEAR'].apply(lambda s: int(s.split('-')[0]) if type(s) is str else s)"
   ]
  },
  {
   "cell_type": "code",
   "execution_count": 33,
   "id": "7416f418",
   "metadata": {},
   "outputs": [],
   "source": [
    "train_df = df.head(int(df.shape[0] * 0.6))\n",
    "valid_df = df.tail(int(df.shape[0] * 0.2))\n",
    "test_df = df.iloc[int(df.shape[0] * 0.6)+1: int(df.shape[0] * 0.8)]"
   ]
  },
  {
   "cell_type": "code",
   "execution_count": 34,
   "id": "64ff8ae9",
   "metadata": {},
   "outputs": [
    {
     "name": "stdout",
     "output_type": "stream",
     "text": [
      "Kolumny zawierające wartości NaN:\n",
      "['INSTALLATION_YEAR', 'COMMODITY_RELEASED_TYPE', 'INTENTIONAL_RELEASE_BBLS', 'UNINTENTIONAL_RELEASE_BBLS', 'ON_OFF_SHORE', 'EXPLODE_IND', 'NUM_PUB_EVACUATED', 'FEDERAL', 'LOCATION_TYPE', 'CROSSING', 'ITEM_INVOLVED', 'MATERIAL_INVOLVED', 'EST_COST_OPER_PAID', 'EST_COST_GAS_RELEASED', 'EST_COST_PROP_DAMAGE', 'EST_COST_EMERGENCY', 'EST_COST_ENVIRONMENTAL', 'EST_COST_OTHER', 'NARRATIVE', 'SYSTEM_PART_INVOLVED', 'INCIDENT_AREA_TYPE', 'PIPE_FACILITY_TYPE', 'inst_age_in_days', 'RELEASE_TYPE', 'COULD_BE_HCA', 'ACCIDENT_PSIG', 'MOP_PSIG', 'PIPELINE_FUNCTION', 'SCADA_IN_PLACE_IND', 'INVESTIGATION_STATUS', 'EMPLOYEE_DRUG_TEST_IND', 'CONTRACTOR_DRUG_TEST_IND']\n",
      "Procent NaN w kolumnie INSTALLATION_YEAR: 28.09%\n",
      "Procent NaN w kolumnie COMMODITY_RELEASED_TYPE: 1.19%\n",
      "Procent NaN w kolumnie INTENTIONAL_RELEASE_BBLS: 58.66%\n",
      "Procent NaN w kolumnie UNINTENTIONAL_RELEASE_BBLS: 0.92%\n",
      "Procent NaN w kolumnie ON_OFF_SHORE: 16.65%\n",
      "Procent NaN w kolumnie EXPLODE_IND: 12.79%\n",
      "Procent NaN w kolumnie NUM_PUB_EVACUATED: 6.85%\n",
      "Procent NaN w kolumnie FEDERAL: 2.99%\n",
      "Procent NaN w kolumnie LOCATION_TYPE: 2.99%\n",
      "Procent NaN w kolumnie CROSSING: 12.06%\n",
      "Procent NaN w kolumnie ITEM_INVOLVED: 16.65%\n",
      "Procent NaN w kolumnie MATERIAL_INVOLVED: 9.07%\n",
      "Procent NaN w kolumnie EST_COST_OPER_PAID: 0.27%\n",
      "Procent NaN w kolumnie EST_COST_GAS_RELEASED: 36.56%\n",
      "Procent NaN w kolumnie EST_COST_PROP_DAMAGE: 0.16%\n",
      "Procent NaN w kolumnie EST_COST_EMERGENCY: 0.16%\n",
      "Procent NaN w kolumnie EST_COST_ENVIRONMENTAL: 36.61%\n",
      "Procent NaN w kolumnie EST_COST_OTHER: 0.54%\n",
      "Procent NaN w kolumnie NARRATIVE: 0.53%\n",
      "Procent NaN w kolumnie SYSTEM_PART_INVOLVED: 2.45%\n",
      "Procent NaN w kolumnie INCIDENT_AREA_TYPE: 5.43%\n",
      "Procent NaN w kolumnie PIPE_FACILITY_TYPE: 2.45%\n",
      "Procent NaN w kolumnie inst_age_in_days: 28.09%\n",
      "Procent NaN w kolumnie RELEASE_TYPE: 2.45%\n",
      "Procent NaN w kolumnie COULD_BE_HCA: 19.20%\n",
      "Procent NaN w kolumnie ACCIDENT_PSIG: 11.53%\n",
      "Procent NaN w kolumnie MOP_PSIG: 11.79%\n",
      "Procent NaN w kolumnie PIPELINE_FUNCTION: 19.20%\n",
      "Procent NaN w kolumnie SCADA_IN_PLACE_IND: 11.53%\n",
      "Procent NaN w kolumnie INVESTIGATION_STATUS: 11.52%\n",
      "Procent NaN w kolumnie EMPLOYEE_DRUG_TEST_IND: 2.56%\n",
      "Procent NaN w kolumnie CONTRACTOR_DRUG_TEST_IND: 2.56%\n"
     ]
    }
   ],
   "source": [
    "nan_columns = df.columns[df.isna().any()].tolist()\n",
    "\n",
    "if len(nan_columns) == 0:\n",
    "        print(\"Nie ma wartości NaN w żadnej kolumnie.\")\n",
    "else:\n",
    "    print(\"Kolumny zawierające wartości NaN:\")\n",
    "    print(nan_columns)\n",
    "\n",
    "    # Obliczanie procentowego udziału wartości NaN w każdej kolumnie\n",
    "    for col in nan_columns:\n",
    "        nan_percentage = (df[col].isna().sum() / len(df)) * 100\n",
    "        print(f\"Procent NaN w kolumnie {col}: {nan_percentage:.2f}%\")"
   ]
  },
  {
   "cell_type": "markdown",
   "id": "7e606040",
   "metadata": {},
   "source": [
    "## Uzupełnienie zmiennych"
   ]
  },
  {
   "cell_type": "code",
   "execution_count": 35,
   "id": "6bb21c1d",
   "metadata": {},
   "outputs": [],
   "source": [
    "base_on = ['EST_COST_GAS_RELEASED', 'EST_COST_ENVIRONMENTAL', 'accident_pressure_as_%_mop_psig']"
   ]
  },
  {
   "cell_type": "code",
   "execution_count": 36,
   "id": "fdd4c274",
   "metadata": {},
   "outputs": [],
   "source": [
    "categorial_values = ['COMMODITY_RELEASED_TYPE', 'ON_OFF_SHORE', 'IGNITE_IND', 'EXPLODE_IND', 'FEDERAL', 'LOCATION_TYPE', 'CROSSING', 'MATERIAL_INVOLVED', 'INCIDENT_AREA_TYPE', 'PIPE_FACILITY_TYPE', \n",
    "                     'RELEASE_TYPE', 'COULD_BE_HCA', 'PIPELINE_FUNCTION', 'SCADA_IN_PLACE_IND', 'INVESTIGATION_STATUS', 'EMPLOYEE_DRUG_TEST_IND', 'CONTRACTOR_DRUG_TEST_IND', 'CAUSE']\n",
    "categorial_values.remove(classification_target)"
   ]
  },
  {
   "cell_type": "code",
   "execution_count": 37,
   "id": "e3cd1f23",
   "metadata": {},
   "outputs": [],
   "source": [
    "mean_values = ['UNINTENTIONAL_RELEASE_BBLS', 'MOP_PSIG', 'inst_age_in_days', 'EST_COST_PROP_DAMAGE', 'EST_COST_EMERGENCY', 'INSTALLATION_YEAR', 'ACCIDENT_PSIG']\n",
    "zero_values = ['INTENTIONAL_RELEASE_BBLS', 'NUM_PUB_EVACUATED', 'EST_COST_OPER_PAID', 'EST_COST_OTHER']"
   ]
  },
  {
   "cell_type": "code",
   "execution_count": 38,
   "id": "a640c5a9",
   "metadata": {},
   "outputs": [],
   "source": [
    "without_NaN = ['ITEM_INVOLVED', 'SYSTEM_PART_INVOLVED']"
   ]
  },
  {
   "cell_type": "code",
   "execution_count": 39,
   "id": "83ba1f55",
   "metadata": {},
   "outputs": [],
   "source": [
    "delated = ['CAUSE_DETAILS', 'NARRATIVE', 'zone', 'TAVG']"
   ]
  },
  {
   "cell_type": "code",
   "execution_count": 40,
   "id": "6a2695d7",
   "metadata": {},
   "outputs": [],
   "source": [
    "def process_data_numeric(input_df: pd.DataFrame):\n",
    "    for col_name in categorial_values:\n",
    "        mode_value = input_df[col_name].mode()[0]\n",
    "        input_df[col_name] = input_df[col_name].fillna(mode_value)\n",
    "\n",
    "    for col_name in mean_values:\n",
    "        mean_value = input_df[col_name].mean()\n",
    "        input_df[col_name] = input_df[col_name].fillna(mean_value)\n",
    "\n",
    "    for col_name in zero_values:\n",
    "        input_df[col_name] = input_df[col_name].fillna(0)\n",
    "\n",
    "    for col_name in base_on:\n",
    "        mean_value = input_df[col_name].mean()\n",
    "        input_df[col_name] = input_df[col_name].fillna(mean_value)\n",
    "    return input_df"
   ]
  },
  {
   "cell_type": "markdown",
   "id": "033d92f4",
   "metadata": {},
   "source": [
    "# One Hot Encode"
   ]
  },
  {
   "cell_type": "code",
   "execution_count": 41,
   "id": "2d38c379",
   "metadata": {},
   "outputs": [],
   "source": [
    "one_hot_col = [\"data_source\", \"COMMODITY_RELEASED_TYPE\", \"ON_OFF_SHORE\", \"LOCATION_TYPE\", \n",
    "               \"ITEM_INVOLVED\", \"MATERIAL_INVOLVED\", \"SYSTEM_PART_INVOLVED\", \n",
    "               \"INCIDENT_AREA_TYPE\", \"PIPE_FACILITY_TYPE\", \"PIPELINE_FUNCTION\", \"INVESTIGATION_STATUS\",\n",
    "               \"zone\", 'RELEASE_TYPE', 'CAUSE_DETAILS', 'CAUSE']\n",
    "one_hot_col.remove(classification_target)"
   ]
  },
  {
   "cell_type": "code",
   "execution_count": 42,
   "id": "2535bae4",
   "metadata": {},
   "outputs": [
    {
     "name": "stdout",
     "output_type": "stream",
     "text": [
      "Ilość unikalnych cech w kolumnie 'data_source': 5\n",
      "Ilość unikalnych cech w kolumnie 'COMMODITY_RELEASED_TYPE': 10\n",
      "Ilość unikalnych cech w kolumnie 'ON_OFF_SHORE': 2\n",
      "Ilość unikalnych cech w kolumnie 'LOCATION_TYPE': 7\n",
      "Ilość unikalnych cech w kolumnie 'ITEM_INVOLVED': 31\n",
      "Ilość unikalnych cech w kolumnie 'MATERIAL_INVOLVED': 10\n",
      "Ilość unikalnych cech w kolumnie 'SYSTEM_PART_INVOLVED': 21\n",
      "Ilość unikalnych cech w kolumnie 'INCIDENT_AREA_TYPE': 5\n",
      "Ilość unikalnych cech w kolumnie 'PIPE_FACILITY_TYPE': 8\n",
      "Ilość unikalnych cech w kolumnie 'PIPELINE_FUNCTION': 11\n",
      "Ilość unikalnych cech w kolumnie 'INVESTIGATION_STATUS': 5\n",
      "Ilość unikalnych cech w kolumnie 'zone': 8\n",
      "Ilość unikalnych cech w kolumnie 'RELEASE_TYPE': 5\n",
      "Ilość unikalnych cech w kolumnie 'CAUSE_DETAILS': 54\n",
      "168\n"
     ]
    }
   ],
   "source": [
    "test = 0\n",
    "\n",
    "for col in one_hot_col:\n",
    "    unique_features = df[col].nunique()\n",
    "    test += unique_features\n",
    "    print(f\"Ilość unikalnych cech w kolumnie '{col}': {unique_features}\")\n",
    "print(test - len(one_hot_col))"
   ]
  },
  {
   "cell_type": "code",
   "execution_count": 43,
   "id": "1ebcb715",
   "metadata": {},
   "outputs": [],
   "source": [
    "def one_hot_encode(input_dataframe: pd.DataFrame):\n",
    "    for col in one_hot_col:\n",
    "        one_hot_encoded = pd.get_dummies(input_dataframe[col])\n",
    "        if input_dataframe[col].isna().any():\n",
    "            input_dataframe[col + \"_nan\"] = input_dataframe[col].isna().astype(int)  # Zmiana typu danych na int\n",
    "            one_hot_encoded.columns = [col + \"_\" + str(val) for val in one_hot_encoded.columns]\n",
    "        else:\n",
    "            one_hot_encoded.columns = [col + \"_\" + str(val) for val in one_hot_encoded.columns]\n",
    "\n",
    "        # Konwersja kolumn one-hot encoded na int\n",
    "        one_hot_encoded = one_hot_encoded.astype(int)\n",
    "\n",
    "        input_dataframe = pd.concat([input_dataframe, one_hot_encoded], axis=1)\n",
    "        input_dataframe.drop(col, axis=1, inplace=True)\n",
    "    print(\"DataFrame po zakodowaniu one-hot:\")\n",
    "    return input_dataframe\n"
   ]
  },
  {
   "cell_type": "code",
   "execution_count": 44,
   "id": "e4a450b9",
   "metadata": {},
   "outputs": [
    {
     "name": "stderr",
     "output_type": "stream",
     "text": [
      "/var/folders/cn/mhwmm18103sbb1kd17kd3zrw0000gn/T/ipykernel_55934/1799717585.py:4: SettingWithCopyWarning: \n",
      "A value is trying to be set on a copy of a slice from a DataFrame.\n",
      "Try using .loc[row_indexer,col_indexer] = value instead\n",
      "\n",
      "See the caveats in the documentation: https://pandas.pydata.org/pandas-docs/stable/user_guide/indexing.html#returning-a-view-versus-a-copy\n",
      "  input_df[col_name] = input_df[col_name].fillna(mode_value)\n",
      "/var/folders/cn/mhwmm18103sbb1kd17kd3zrw0000gn/T/ipykernel_55934/1799717585.py:4: SettingWithCopyWarning: \n",
      "A value is trying to be set on a copy of a slice from a DataFrame.\n",
      "Try using .loc[row_indexer,col_indexer] = value instead\n",
      "\n",
      "See the caveats in the documentation: https://pandas.pydata.org/pandas-docs/stable/user_guide/indexing.html#returning-a-view-versus-a-copy\n",
      "  input_df[col_name] = input_df[col_name].fillna(mode_value)\n",
      "/var/folders/cn/mhwmm18103sbb1kd17kd3zrw0000gn/T/ipykernel_55934/1799717585.py:8: SettingWithCopyWarning: \n",
      "A value is trying to be set on a copy of a slice from a DataFrame.\n",
      "Try using .loc[row_indexer,col_indexer] = value instead\n",
      "\n",
      "See the caveats in the documentation: https://pandas.pydata.org/pandas-docs/stable/user_guide/indexing.html#returning-a-view-versus-a-copy\n",
      "  input_df[col_name] = input_df[col_name].fillna(mean_value)\n",
      "/var/folders/cn/mhwmm18103sbb1kd17kd3zrw0000gn/T/ipykernel_55934/1799717585.py:11: SettingWithCopyWarning: \n",
      "A value is trying to be set on a copy of a slice from a DataFrame.\n",
      "Try using .loc[row_indexer,col_indexer] = value instead\n",
      "\n",
      "See the caveats in the documentation: https://pandas.pydata.org/pandas-docs/stable/user_guide/indexing.html#returning-a-view-versus-a-copy\n",
      "  input_df[col_name] = input_df[col_name].fillna(0)\n",
      "/var/folders/cn/mhwmm18103sbb1kd17kd3zrw0000gn/T/ipykernel_55934/1799717585.py:15: SettingWithCopyWarning: \n",
      "A value is trying to be set on a copy of a slice from a DataFrame.\n",
      "Try using .loc[row_indexer,col_indexer] = value instead\n",
      "\n",
      "See the caveats in the documentation: https://pandas.pydata.org/pandas-docs/stable/user_guide/indexing.html#returning-a-view-versus-a-copy\n",
      "  input_df[col_name] = input_df[col_name].fillna(mean_value)\n",
      "/var/folders/cn/mhwmm18103sbb1kd17kd3zrw0000gn/T/ipykernel_55934/1799717585.py:4: SettingWithCopyWarning: \n",
      "A value is trying to be set on a copy of a slice from a DataFrame.\n",
      "Try using .loc[row_indexer,col_indexer] = value instead\n",
      "\n",
      "See the caveats in the documentation: https://pandas.pydata.org/pandas-docs/stable/user_guide/indexing.html#returning-a-view-versus-a-copy\n",
      "  input_df[col_name] = input_df[col_name].fillna(mode_value)\n",
      "/var/folders/cn/mhwmm18103sbb1kd17kd3zrw0000gn/T/ipykernel_55934/1799717585.py:8: SettingWithCopyWarning: \n",
      "A value is trying to be set on a copy of a slice from a DataFrame.\n",
      "Try using .loc[row_indexer,col_indexer] = value instead\n",
      "\n",
      "See the caveats in the documentation: https://pandas.pydata.org/pandas-docs/stable/user_guide/indexing.html#returning-a-view-versus-a-copy\n",
      "  input_df[col_name] = input_df[col_name].fillna(mean_value)\n",
      "/var/folders/cn/mhwmm18103sbb1kd17kd3zrw0000gn/T/ipykernel_55934/1799717585.py:11: SettingWithCopyWarning: \n",
      "A value is trying to be set on a copy of a slice from a DataFrame.\n",
      "Try using .loc[row_indexer,col_indexer] = value instead\n",
      "\n",
      "See the caveats in the documentation: https://pandas.pydata.org/pandas-docs/stable/user_guide/indexing.html#returning-a-view-versus-a-copy\n",
      "  input_df[col_name] = input_df[col_name].fillna(0)\n",
      "/var/folders/cn/mhwmm18103sbb1kd17kd3zrw0000gn/T/ipykernel_55934/1799717585.py:15: SettingWithCopyWarning: \n",
      "A value is trying to be set on a copy of a slice from a DataFrame.\n",
      "Try using .loc[row_indexer,col_indexer] = value instead\n",
      "\n",
      "See the caveats in the documentation: https://pandas.pydata.org/pandas-docs/stable/user_guide/indexing.html#returning-a-view-versus-a-copy\n",
      "  input_df[col_name] = input_df[col_name].fillna(mean_value)\n",
      "/var/folders/cn/mhwmm18103sbb1kd17kd3zrw0000gn/T/ipykernel_55934/1799717585.py:4: SettingWithCopyWarning: \n",
      "A value is trying to be set on a copy of a slice from a DataFrame.\n",
      "Try using .loc[row_indexer,col_indexer] = value instead\n",
      "\n",
      "See the caveats in the documentation: https://pandas.pydata.org/pandas-docs/stable/user_guide/indexing.html#returning-a-view-versus-a-copy\n",
      "  input_df[col_name] = input_df[col_name].fillna(mode_value)\n",
      "/var/folders/cn/mhwmm18103sbb1kd17kd3zrw0000gn/T/ipykernel_55934/1799717585.py:8: SettingWithCopyWarning: \n",
      "A value is trying to be set on a copy of a slice from a DataFrame.\n",
      "Try using .loc[row_indexer,col_indexer] = value instead\n",
      "\n",
      "See the caveats in the documentation: https://pandas.pydata.org/pandas-docs/stable/user_guide/indexing.html#returning-a-view-versus-a-copy\n",
      "  input_df[col_name] = input_df[col_name].fillna(mean_value)\n",
      "/var/folders/cn/mhwmm18103sbb1kd17kd3zrw0000gn/T/ipykernel_55934/1799717585.py:11: SettingWithCopyWarning: \n",
      "A value is trying to be set on a copy of a slice from a DataFrame.\n",
      "Try using .loc[row_indexer,col_indexer] = value instead\n",
      "\n",
      "See the caveats in the documentation: https://pandas.pydata.org/pandas-docs/stable/user_guide/indexing.html#returning-a-view-versus-a-copy\n",
      "  input_df[col_name] = input_df[col_name].fillna(0)\n",
      "/var/folders/cn/mhwmm18103sbb1kd17kd3zrw0000gn/T/ipykernel_55934/1799717585.py:15: SettingWithCopyWarning: \n",
      "A value is trying to be set on a copy of a slice from a DataFrame.\n",
      "Try using .loc[row_indexer,col_indexer] = value instead\n",
      "\n",
      "See the caveats in the documentation: https://pandas.pydata.org/pandas-docs/stable/user_guide/indexing.html#returning-a-view-versus-a-copy\n",
      "  input_df[col_name] = input_df[col_name].fillna(mean_value)\n"
     ]
    }
   ],
   "source": [
    "train_df_classification = process_data_numeric(train_df)\n",
    "valid_df_classification = process_data_numeric(valid_df)\n",
    "test_df_classification = process_data_numeric(test_df)"
   ]
  },
  {
   "cell_type": "code",
   "execution_count": 45,
   "id": "4fb9bd99",
   "metadata": {},
   "outputs": [
    {
     "name": "stdout",
     "output_type": "stream",
     "text": [
      "DataFrame po zakodowaniu one-hot:\n"
     ]
    },
    {
     "name": "stderr",
     "output_type": "stream",
     "text": [
      "/var/folders/cn/mhwmm18103sbb1kd17kd3zrw0000gn/T/ipykernel_55934/1649285921.py:1: SettingWithCopyWarning: \n",
      "A value is trying to be set on a copy of a slice from a DataFrame.\n",
      "Try using .loc[row_indexer,col_indexer] = value instead\n",
      "\n",
      "See the caveats in the documentation: https://pandas.pydata.org/pandas-docs/stable/user_guide/indexing.html#returning-a-view-versus-a-copy\n",
      "  train_df_classification['ds_type'] = 'train'\n",
      "/var/folders/cn/mhwmm18103sbb1kd17kd3zrw0000gn/T/ipykernel_55934/1649285921.py:2: SettingWithCopyWarning: \n",
      "A value is trying to be set on a copy of a slice from a DataFrame.\n",
      "Try using .loc[row_indexer,col_indexer] = value instead\n",
      "\n",
      "See the caveats in the documentation: https://pandas.pydata.org/pandas-docs/stable/user_guide/indexing.html#returning-a-view-versus-a-copy\n",
      "  valid_df_classification['ds_type'] = 'valid'\n",
      "/var/folders/cn/mhwmm18103sbb1kd17kd3zrw0000gn/T/ipykernel_55934/1649285921.py:3: SettingWithCopyWarning: \n",
      "A value is trying to be set on a copy of a slice from a DataFrame.\n",
      "Try using .loc[row_indexer,col_indexer] = value instead\n",
      "\n",
      "See the caveats in the documentation: https://pandas.pydata.org/pandas-docs/stable/user_guide/indexing.html#returning-a-view-versus-a-copy\n",
      "  test_df_classification['ds_type'] = 'test'\n"
     ]
    }
   ],
   "source": [
    "train_df_classification['ds_type'] = 'train'\n",
    "valid_df_classification['ds_type'] = 'valid'\n",
    "test_df_classification['ds_type'] = 'test'\n",
    "df_united_before_one_hot_classification = pd.concat([train_df_classification, valid_df_classification, test_df_classification],axis=0)\n",
    "df_united_after_one_hot_classification = one_hot_encode(df_united_before_one_hot_classification)"
   ]
  },
  {
   "cell_type": "code",
   "execution_count": 46,
   "id": "3a07cb33",
   "metadata": {},
   "outputs": [],
   "source": [
    "train_df_classification = df_united_after_one_hot_classification.loc[df_united_after_one_hot_classification['ds_type'] == 'train']\n",
    "valid_df_classification = df_united_after_one_hot_classification.loc[df_united_after_one_hot_classification['ds_type'] == 'valid']\n",
    "test_df_classification = df_united_after_one_hot_classification.loc[df_united_after_one_hot_classification['ds_type'] == 'test']"
   ]
  },
  {
   "cell_type": "code",
   "execution_count": 47,
   "id": "88ed7161",
   "metadata": {},
   "outputs": [
    {
     "name": "stdout",
     "output_type": "stream",
     "text": [
      "Kolumny zawierające wartości NaN:\n",
      "['NARRATIVE']\n",
      "Procent NaN w kolumnie NARRATIVE: 0.47%\n"
     ]
    }
   ],
   "source": [
    "nan_columns = train_df_classification.columns[train_df_classification.isna().any()].tolist()\n",
    "\n",
    "if len(nan_columns) == 0:\n",
    "        print(\"Nie ma wartości NaN w żadnej kolumnie.\")\n",
    "else:\n",
    "    print(\"Kolumny zawierające wartości NaN:\")\n",
    "    print(nan_columns)\n",
    "\n",
    "    # Obliczanie procentowego udziału wartości NaN w każdej kolumnie\n",
    "    for col in nan_columns:\n",
    "        nan_percentage = (train_df_classification[col].isna().sum() / len(train_df_classification)) * 100\n",
    "        print(f\"Procent NaN w kolumnie {col}: {nan_percentage:.2f}%\")"
   ]
  },
  {
   "cell_type": "code",
   "execution_count": 48,
   "id": "6f4e637f",
   "metadata": {},
   "outputs": [],
   "source": [
    "train_df_classification.to_csv('../data/4_fill_nans->one_hot->merge/processed_data_train_classification.csv')\n",
    "valid_df_classification.to_csv('../data/4_fill_nans->one_hot->merge/processed_data_valid_classification.csv')\n",
    "test_df_classification.to_csv('../data/4_fill_nans->one_hot->merge/processed_data_test_classification.csv')\n",
    "df_united_after_one_hot_classification.to_csv('../data/4_fill_nans->one_hot->merge/processed_data_cause_classification.csv', index=True, index_label='case_idx')"
   ]
  },
  {
   "cell_type": "markdown",
   "id": "6d01b672",
   "metadata": {},
   "source": [
    "##### REGRESSION DATA"
   ]
  },
  {
   "cell_type": "code",
   "execution_count": 49,
   "id": "020dc4f2",
   "metadata": {},
   "outputs": [
    {
     "name": "stderr",
     "output_type": "stream",
     "text": [
      "/var/folders/cn/mhwmm18103sbb1kd17kd3zrw0000gn/T/ipykernel_55934/1799717585.py:4: SettingWithCopyWarning: \n",
      "A value is trying to be set on a copy of a slice from a DataFrame.\n",
      "Try using .loc[row_indexer,col_indexer] = value instead\n",
      "\n",
      "See the caveats in the documentation: https://pandas.pydata.org/pandas-docs/stable/user_guide/indexing.html#returning-a-view-versus-a-copy\n",
      "  input_df[col_name] = input_df[col_name].fillna(mode_value)\n",
      "/var/folders/cn/mhwmm18103sbb1kd17kd3zrw0000gn/T/ipykernel_55934/1799717585.py:4: SettingWithCopyWarning: \n",
      "A value is trying to be set on a copy of a slice from a DataFrame.\n",
      "Try using .loc[row_indexer,col_indexer] = value instead\n",
      "\n",
      "See the caveats in the documentation: https://pandas.pydata.org/pandas-docs/stable/user_guide/indexing.html#returning-a-view-versus-a-copy\n",
      "  input_df[col_name] = input_df[col_name].fillna(mode_value)\n",
      "/var/folders/cn/mhwmm18103sbb1kd17kd3zrw0000gn/T/ipykernel_55934/1799717585.py:8: SettingWithCopyWarning: \n",
      "A value is trying to be set on a copy of a slice from a DataFrame.\n",
      "Try using .loc[row_indexer,col_indexer] = value instead\n",
      "\n",
      "See the caveats in the documentation: https://pandas.pydata.org/pandas-docs/stable/user_guide/indexing.html#returning-a-view-versus-a-copy\n",
      "  input_df[col_name] = input_df[col_name].fillna(mean_value)\n",
      "/var/folders/cn/mhwmm18103sbb1kd17kd3zrw0000gn/T/ipykernel_55934/1799717585.py:11: SettingWithCopyWarning: \n",
      "A value is trying to be set on a copy of a slice from a DataFrame.\n",
      "Try using .loc[row_indexer,col_indexer] = value instead\n",
      "\n",
      "See the caveats in the documentation: https://pandas.pydata.org/pandas-docs/stable/user_guide/indexing.html#returning-a-view-versus-a-copy\n",
      "  input_df[col_name] = input_df[col_name].fillna(0)\n",
      "/var/folders/cn/mhwmm18103sbb1kd17kd3zrw0000gn/T/ipykernel_55934/1799717585.py:15: SettingWithCopyWarning: \n",
      "A value is trying to be set on a copy of a slice from a DataFrame.\n",
      "Try using .loc[row_indexer,col_indexer] = value instead\n",
      "\n",
      "See the caveats in the documentation: https://pandas.pydata.org/pandas-docs/stable/user_guide/indexing.html#returning-a-view-versus-a-copy\n",
      "  input_df[col_name] = input_df[col_name].fillna(mean_value)\n",
      "/var/folders/cn/mhwmm18103sbb1kd17kd3zrw0000gn/T/ipykernel_55934/1799717585.py:4: SettingWithCopyWarning: \n",
      "A value is trying to be set on a copy of a slice from a DataFrame.\n",
      "Try using .loc[row_indexer,col_indexer] = value instead\n",
      "\n",
      "See the caveats in the documentation: https://pandas.pydata.org/pandas-docs/stable/user_guide/indexing.html#returning-a-view-versus-a-copy\n",
      "  input_df[col_name] = input_df[col_name].fillna(mode_value)\n",
      "/var/folders/cn/mhwmm18103sbb1kd17kd3zrw0000gn/T/ipykernel_55934/1799717585.py:8: SettingWithCopyWarning: \n",
      "A value is trying to be set on a copy of a slice from a DataFrame.\n",
      "Try using .loc[row_indexer,col_indexer] = value instead\n",
      "\n",
      "See the caveats in the documentation: https://pandas.pydata.org/pandas-docs/stable/user_guide/indexing.html#returning-a-view-versus-a-copy\n",
      "  input_df[col_name] = input_df[col_name].fillna(mean_value)\n",
      "/var/folders/cn/mhwmm18103sbb1kd17kd3zrw0000gn/T/ipykernel_55934/1799717585.py:11: SettingWithCopyWarning: \n",
      "A value is trying to be set on a copy of a slice from a DataFrame.\n",
      "Try using .loc[row_indexer,col_indexer] = value instead\n",
      "\n",
      "See the caveats in the documentation: https://pandas.pydata.org/pandas-docs/stable/user_guide/indexing.html#returning-a-view-versus-a-copy\n",
      "  input_df[col_name] = input_df[col_name].fillna(0)\n",
      "/var/folders/cn/mhwmm18103sbb1kd17kd3zrw0000gn/T/ipykernel_55934/1799717585.py:15: SettingWithCopyWarning: \n",
      "A value is trying to be set on a copy of a slice from a DataFrame.\n",
      "Try using .loc[row_indexer,col_indexer] = value instead\n",
      "\n",
      "See the caveats in the documentation: https://pandas.pydata.org/pandas-docs/stable/user_guide/indexing.html#returning-a-view-versus-a-copy\n",
      "  input_df[col_name] = input_df[col_name].fillna(mean_value)\n",
      "/var/folders/cn/mhwmm18103sbb1kd17kd3zrw0000gn/T/ipykernel_55934/1799717585.py:4: SettingWithCopyWarning: \n",
      "A value is trying to be set on a copy of a slice from a DataFrame.\n",
      "Try using .loc[row_indexer,col_indexer] = value instead\n",
      "\n",
      "See the caveats in the documentation: https://pandas.pydata.org/pandas-docs/stable/user_guide/indexing.html#returning-a-view-versus-a-copy\n",
      "  input_df[col_name] = input_df[col_name].fillna(mode_value)\n",
      "/var/folders/cn/mhwmm18103sbb1kd17kd3zrw0000gn/T/ipykernel_55934/1799717585.py:8: SettingWithCopyWarning: \n",
      "A value is trying to be set on a copy of a slice from a DataFrame.\n",
      "Try using .loc[row_indexer,col_indexer] = value instead\n",
      "\n",
      "See the caveats in the documentation: https://pandas.pydata.org/pandas-docs/stable/user_guide/indexing.html#returning-a-view-versus-a-copy\n",
      "  input_df[col_name] = input_df[col_name].fillna(mean_value)\n",
      "/var/folders/cn/mhwmm18103sbb1kd17kd3zrw0000gn/T/ipykernel_55934/1799717585.py:11: SettingWithCopyWarning: \n",
      "A value is trying to be set on a copy of a slice from a DataFrame.\n",
      "Try using .loc[row_indexer,col_indexer] = value instead\n",
      "\n",
      "See the caveats in the documentation: https://pandas.pydata.org/pandas-docs/stable/user_guide/indexing.html#returning-a-view-versus-a-copy\n",
      "  input_df[col_name] = input_df[col_name].fillna(0)\n",
      "/var/folders/cn/mhwmm18103sbb1kd17kd3zrw0000gn/T/ipykernel_55934/1799717585.py:15: SettingWithCopyWarning: \n",
      "A value is trying to be set on a copy of a slice from a DataFrame.\n",
      "Try using .loc[row_indexer,col_indexer] = value instead\n",
      "\n",
      "See the caveats in the documentation: https://pandas.pydata.org/pandas-docs/stable/user_guide/indexing.html#returning-a-view-versus-a-copy\n",
      "  input_df[col_name] = input_df[col_name].fillna(mean_value)\n"
     ]
    }
   ],
   "source": [
    "categorial_values.append(classification_target)\n",
    "one_hot_col.append(classification_target)\n",
    "train_df_regression = process_data_numeric(train_df)\n",
    "valid_df_regression = process_data_numeric(valid_df)\n",
    "test_df_regression = process_data_numeric(test_df)"
   ]
  },
  {
   "cell_type": "code",
   "execution_count": 50,
   "id": "1f83f8a7",
   "metadata": {},
   "outputs": [
    {
     "name": "stdout",
     "output_type": "stream",
     "text": [
      "DataFrame po zakodowaniu one-hot:\n"
     ]
    },
    {
     "name": "stderr",
     "output_type": "stream",
     "text": [
      "/var/folders/cn/mhwmm18103sbb1kd17kd3zrw0000gn/T/ipykernel_55934/1242178995.py:1: SettingWithCopyWarning: \n",
      "A value is trying to be set on a copy of a slice from a DataFrame.\n",
      "Try using .loc[row_indexer,col_indexer] = value instead\n",
      "\n",
      "See the caveats in the documentation: https://pandas.pydata.org/pandas-docs/stable/user_guide/indexing.html#returning-a-view-versus-a-copy\n",
      "  train_df_regression['ds_type'] = 'train'\n",
      "/var/folders/cn/mhwmm18103sbb1kd17kd3zrw0000gn/T/ipykernel_55934/1242178995.py:2: SettingWithCopyWarning: \n",
      "A value is trying to be set on a copy of a slice from a DataFrame.\n",
      "Try using .loc[row_indexer,col_indexer] = value instead\n",
      "\n",
      "See the caveats in the documentation: https://pandas.pydata.org/pandas-docs/stable/user_guide/indexing.html#returning-a-view-versus-a-copy\n",
      "  valid_df_regression['ds_type'] = 'valid'\n",
      "/var/folders/cn/mhwmm18103sbb1kd17kd3zrw0000gn/T/ipykernel_55934/1242178995.py:3: SettingWithCopyWarning: \n",
      "A value is trying to be set on a copy of a slice from a DataFrame.\n",
      "Try using .loc[row_indexer,col_indexer] = value instead\n",
      "\n",
      "See the caveats in the documentation: https://pandas.pydata.org/pandas-docs/stable/user_guide/indexing.html#returning-a-view-versus-a-copy\n",
      "  test_df_regression['ds_type'] = 'test'\n"
     ]
    }
   ],
   "source": [
    "train_df_regression['ds_type'] = 'train'\n",
    "valid_df_regression['ds_type'] = 'valid'\n",
    "test_df_regression['ds_type'] = 'test'\n",
    "df_united_before_one_hot_regression = pd.concat([train_df_regression, valid_df_regression, test_df_regression],axis=0)\n",
    "df_united_after_one_hot_regression = one_hot_encode(df_united_before_one_hot_regression)"
   ]
  },
  {
   "cell_type": "code",
   "execution_count": 51,
   "id": "c6210e04",
   "metadata": {},
   "outputs": [],
   "source": [
    "train_df_regression = df_united_after_one_hot_regression.loc[df_united_after_one_hot_regression['ds_type'] == 'train']\n",
    "valid_df_regression = df_united_after_one_hot_regression.loc[df_united_after_one_hot_regression['ds_type'] == 'valid']\n",
    "test_df_regression = df_united_after_one_hot_regression.loc[df_united_after_one_hot_regression['ds_type'] == 'test']"
   ]
  },
  {
   "cell_type": "code",
   "execution_count": 52,
   "id": "e9884864",
   "metadata": {},
   "outputs": [
    {
     "name": "stdout",
     "output_type": "stream",
     "text": [
      "Kolumny zawierające wartości NaN:\n",
      "['NARRATIVE']\n",
      "Procent NaN w kolumnie NARRATIVE: 0.47%\n"
     ]
    }
   ],
   "source": [
    "nan_columns = train_df_regression.columns[train_df_regression.isna().any()].tolist()\n",
    "\n",
    "if len(nan_columns) == 0:\n",
    "        print(\"Nie ma wartości NaN w żadnej kolumnie.\")\n",
    "else:\n",
    "    print(\"Kolumny zawierające wartości NaN:\")\n",
    "    print(nan_columns)\n",
    "\n",
    "    # Obliczanie procentowego udziału wartości NaN w każdej kolumnie\n",
    "    for col in nan_columns:\n",
    "        nan_percentage = (train_df_regression[col].isna().sum() / len(train_df_regression)) * 100\n",
    "        print(f\"Procent NaN w kolumnie {col}: {nan_percentage:.2f}%\")"
   ]
  },
  {
   "cell_type": "code",
   "execution_count": 53,
   "id": "186267c4",
   "metadata": {},
   "outputs": [],
   "source": [
    "train_df_regression.to_csv('../data/4_fill_nans->one_hot->merge/processed_data_train_regression.csv', index=True, index_label='case_idx')\n",
    "valid_df_regression.to_csv('../data/4_fill_nans->one_hot->merge/processed_data_valid_regression.csv', index=True, index_label='case_idx')\n",
    "test_df_regression.to_csv('../data/4_fill_nans->one_hot->merge/processed_data_test_regression.csv', index=True, index_label='case_idx')\n",
    "df_united_after_one_hot_regression.to_csv('../data/4_fill_nans->one_hot->merge/processed_data_cause_regression.csv', index=True, index_label='case_idx')"
   ]
  },
  {
   "cell_type": "markdown",
   "id": "f0d9bbc4",
   "metadata": {},
   "source": [
    "### FINISHING DATA PROCESSING"
   ]
  },
  {
   "cell_type": "code",
   "execution_count": 54,
   "id": "2a436d4a",
   "metadata": {},
   "outputs": [],
   "source": [
    "tf_idf_ds = pd.read_csv('../tf-idf.ivan.csv')\n",
    "df_train_united_regression = train_df_regression.join(tf_idf_ds, how='inner', on='case_idx',lsuffix='_left', rsuffix='_right')\n",
    "df_valid_united_regression = valid_df_regression.join(tf_idf_ds, how='inner', on='case_idx',lsuffix='_left', rsuffix='_right')\n",
    "df_test_united_regression = test_df_regression.join(tf_idf_ds, how='inner', on='case_idx',lsuffix='_left', rsuffix='_right')\n",
    "df_train_united_classification = train_df_classification.join(tf_idf_ds, how='inner', on='case_idx',lsuffix='_left', rsuffix='_right')\n",
    "df_valid_united_classification = valid_df_classification.join(tf_idf_ds, how='inner', on='case_idx',lsuffix='_left', rsuffix='_right')\n",
    "df_test_united_classification = test_df_classification.join(tf_idf_ds, how='inner', on='case_idx',lsuffix='_left', rsuffix='_right')"
   ]
  },
  {
   "cell_type": "code",
   "execution_count": 55,
   "id": "f05d1417",
   "metadata": {},
   "outputs": [],
   "source": [
    "df_train_united_regression = df_train_united_regression.drop(columns=['case_idx', 'NARRATIVE'])\n",
    "df_test_united_regression = df_test_united_regression.drop(columns=['case_idx', 'NARRATIVE'])\n",
    "df_valid_united_regression = df_valid_united_regression.drop(columns=['case_idx', 'NARRATIVE'])\n",
    "\n",
    "df_train_united_classification = df_train_united_classification.drop(columns=['case_idx', 'NARRATIVE'])\n",
    "df_test_united_classification = df_test_united_classification.drop(columns=['case_idx', 'NARRATIVE'])\n",
    "df_valid_united_classification = df_valid_united_classification.drop(columns=['case_idx', 'NARRATIVE'])"
   ]
  },
  {
   "cell_type": "code",
   "execution_count": 56,
   "id": "a722ad03",
   "metadata": {},
   "outputs": [],
   "source": [
    "def process_date(df: pd.DataFrame):\n",
    "    df['case_date'] = df['case_date'].apply(lambda date: time.mktime(datetime.datetime.strptime(date, \"%Y-%m-%d\").timetuple()) / 86400)\n",
    "    \n",
    "    # dodajemy roczną cykliczność naszym danym \n",
    "    df['case_date_sin'] = np.sin(2*np.pi * df['case_date'] / 365)\n",
    "    return df"
   ]
  },
  {
   "cell_type": "code",
   "execution_count": 57,
   "id": "1df4876d",
   "metadata": {},
   "outputs": [],
   "source": [
    "df_train_united_regression = process_date(df_train_united_regression)\n",
    "df_valid_united_regression = process_date(df_valid_united_regression)\n",
    "df_test_united_regression = process_date(df_test_united_regression)\n",
    "\n",
    "df_train_united_classification = process_date(df_train_united_classification)\n",
    "df_valid_united_classification = process_date(df_valid_united_classification)\n",
    "df_test_united_classification = process_date(df_test_united_classification)\n",
    "\n",
    "df_united_regression_all = pd.concat([df_train_united_regression, df_valid_united_regression, df_test_united_regression],axis=0)\n",
    "df_united_classification_all = pd.concat([df_train_united_classification, df_valid_united_classification, df_test_united_classification],axis=0)"
   ]
  },
  {
   "cell_type": "markdown",
   "id": "31ff4b77",
   "metadata": {},
   "source": [
    "### Zrobione. Przezapiszmy dane"
   ]
  },
  {
   "cell_type": "code",
   "execution_count": 58,
   "id": "92eb64b3",
   "metadata": {},
   "outputs": [],
   "source": [
    "df_train_united_regression.drop(columns=['ds_type']).to_csv('../data/4_fill_nans->one_hot->merge/processed_data_train_regression.csv', index=True, index_label='case_idx')\n",
    "df_valid_united_regression.drop(columns=['ds_type']).to_csv('../data/4_fill_nans->one_hot->merge/processed_data_valid_regression.csv', index=True, index_label='case_idx')\n",
    "df_test_united_regression.drop(columns=['ds_type']).to_csv('../data/4_fill_nans->one_hot->merge/processed_data_test_regression.csv', index=True, index_label='case_idx')\n",
    "df_united_regression_all.drop(columns=['ds_type']).to_csv('../data/4_fill_nans->one_hot->merge/processed_data_cause_regression.csv', index=True, index_label='case_idx')\n",
    "\n",
    "df_train_united_classification.drop(columns=['ds_type']).to_csv('../data/4_fill_nans->one_hot->merge/processed_data_train_classification.csv')\n",
    "df_valid_united_classification.drop(columns=['ds_type']).to_csv('../data/4_fill_nans->one_hot->merge/processed_data_valid_classification.csv')\n",
    "df_test_united_classification.drop(columns=['ds_type']).to_csv('../data/4_fill_nans->one_hot->merge/processed_data_test_classification.csv')\n",
    "df_united_classification_all.drop(columns=['ds_type']).to_csv('../data/4_fill_nans->one_hot->merge/processed_data_cause_classification.csv', index=True, index_label='case_idx')"
   ]
  }
 ],
 "metadata": {
  "kernelspec": {
   "display_name": "AGH_default",
   "language": "python",
   "name": "python3"
  },
  "language_info": {
   "codemirror_mode": {
    "name": "ipython",
    "version": 3
   },
   "file_extension": ".py",
   "mimetype": "text/x-python",
   "name": "python",
   "nbconvert_exporter": "python",
   "pygments_lexer": "ipython3",
   "version": "3.12.2"
  }
 },
 "nbformat": 4,
 "nbformat_minor": 5
}
