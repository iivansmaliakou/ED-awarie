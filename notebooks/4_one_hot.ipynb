{
 "cells": [
  {
   "cell_type": "code",
   "execution_count": 9,
   "id": "eefb3468",
   "metadata": {},
   "outputs": [],
   "source": [
    "import time\n",
    "import datetime\n",
    "\n",
    "import pandas as pd\n",
    "import numpy as np\n",
    "from sklearn.model_selection import train_test_split\n",
    "\n",
    "SEED = 260420010"
   ]
  },
  {
   "cell_type": "code",
   "execution_count": 10,
   "id": "063ac53e",
   "metadata": {},
   "outputs": [],
   "source": [
    "df = pd.read_csv('../data/3_fill_nans/processed_data.csv')\n",
    "df = df.sample(frac=1, replace=False, random_state=SEED)"
   ]
  },
  {
   "cell_type": "markdown",
   "id": "033d92f4",
   "metadata": {},
   "source": [
    "# One Hot Encode"
   ]
  },
  {
   "cell_type": "code",
   "execution_count": 11,
   "id": "2d38c379",
   "metadata": {},
   "outputs": [],
   "source": [
    "one_hot_col = [\"data_source\", \"COMMODITY_RELEASED_TYPE\", \"ON_OFF_SHORE\", \"LOCATION_TYPE\", \n",
    "               \"ITEM_INVOLVED\", \"MATERIAL_INVOLVED\", \"SYSTEM_PART_INVOLVED\", \n",
    "               \"INCIDENT_AREA_TYPE\", \"PIPE_FACILITY_TYPE\", \"PIPELINE_FUNCTION\", \"INVESTIGATION_STATUS\",\n",
    "               \"zone\", 'RELEASE_TYPE', 'CAUSE_DETAILS', 'CAUSE']\n",
    "# one_hot_col = [\"COMMODITY_RELEASED_TYPE\", \"ON_OFF_SHORE\", \"LOCATION_TYPE\", \n",
    "#                \"MATERIAL_INVOLVED\", \n",
    "#                \"PIPE_FACILITY_TYPE\", \"PIPELINE_FUNCTION\",\n",
    "#                \"zone\"]"
   ]
  },
  {
   "cell_type": "code",
   "execution_count": 12,
   "id": "2535bae4",
   "metadata": {},
   "outputs": [
    {
     "name": "stdout",
     "output_type": "stream",
     "text": [
      "Ilość unikalnych cech w kolumnie 'data_source': 5\n",
      "Ilość unikalnych cech w kolumnie 'COMMODITY_RELEASED_TYPE': 10\n",
      "Ilość unikalnych cech w kolumnie 'ON_OFF_SHORE': 2\n",
      "Ilość unikalnych cech w kolumnie 'LOCATION_TYPE': 7\n",
      "Ilość unikalnych cech w kolumnie 'ITEM_INVOLVED': 31\n",
      "Ilość unikalnych cech w kolumnie 'MATERIAL_INVOLVED': 10\n",
      "Ilość unikalnych cech w kolumnie 'SYSTEM_PART_INVOLVED': 21\n",
      "Ilość unikalnych cech w kolumnie 'INCIDENT_AREA_TYPE': 5\n",
      "Ilość unikalnych cech w kolumnie 'PIPE_FACILITY_TYPE': 8\n",
      "Ilość unikalnych cech w kolumnie 'PIPELINE_FUNCTION': 11\n",
      "Ilość unikalnych cech w kolumnie 'INVESTIGATION_STATUS': 5\n",
      "Ilość unikalnych cech w kolumnie 'zone': 8\n",
      "Ilość unikalnych cech w kolumnie 'RELEASE_TYPE': 5\n",
      "Ilość unikalnych cech w kolumnie 'CAUSE_DETAILS': 54\n",
      "Ilość unikalnych cech w kolumnie 'CAUSE': 10\n",
      "177\n"
     ]
    }
   ],
   "source": [
    "test = 0\n",
    "\n",
    "for col in one_hot_col:\n",
    "    unique_features = df[col].nunique()\n",
    "    test += unique_features\n",
    "    print(f\"Ilość unikalnych cech w kolumnie '{col}': {unique_features}\")\n",
    "print(test - len(one_hot_col))"
   ]
  },
  {
   "cell_type": "code",
   "execution_count": 13,
   "id": "1ebcb715",
   "metadata": {},
   "outputs": [],
   "source": [
    "def one_hot_encode(input_dataframe: pd.DataFrame):\n",
    "    for col in one_hot_col:\n",
    "        one_hot_encoded = pd.get_dummies(input_dataframe[col], dummy_na=True, prefix=col, dtype=int)\n",
    "        null_cols = []\n",
    "        for oh_enc_name, oh_enc_col in one_hot_encoded.items():\n",
    "            if oh_enc_col.sum() == 0:\n",
    "                null_cols.append(oh_enc_name)\n",
    "        input_dataframe = pd.concat([input_dataframe, one_hot_encoded], axis=1)\n",
    "        input_dataframe.drop(null_cols + [col], axis=1, inplace=True)\n",
    "    return input_dataframe\n"
   ]
  },
  {
   "cell_type": "code",
   "execution_count": 14,
   "id": "4fb9bd99",
   "metadata": {},
   "outputs": [],
   "source": [
    "df_one_hot = one_hot_encode(df)"
   ]
  },
  {
   "cell_type": "code",
   "execution_count": 15,
   "id": "88ed7161",
   "metadata": {},
   "outputs": [
    {
     "name": "stdout",
     "output_type": "stream",
     "text": [
      "Kolumny zawierające wartości NaN:\n",
      "['NARRATIVE', 'inst_age_in_days']\n",
      "Procent NaN w kolumnie NARRATIVE: 0.53%\n",
      "Procent NaN w kolumnie inst_age_in_days: 28.09%\n"
     ]
    }
   ],
   "source": [
    "nan_columns = df_one_hot.columns[df_one_hot.isna().any()].tolist()\n",
    "\n",
    "if len(nan_columns) == 0:\n",
    "        print(\"Nie ma wartości NaN w żadnej kolumnie.\")\n",
    "else:\n",
    "    print(\"Kolumny zawierające wartości NaN:\")\n",
    "    print(nan_columns)\n",
    "\n",
    "    # Obliczanie procentowego udziału wartości NaN w każdej kolumnie\n",
    "    for col in nan_columns:\n",
    "        nan_percentage = (df_one_hot[col].isna().sum() / len(df)) * 100\n",
    "        print(f\"Procent NaN w kolumnie {col}: {nan_percentage:.2f}%\")"
   ]
  },
  {
   "cell_type": "code",
   "execution_count": 16,
   "id": "186267c4",
   "metadata": {},
   "outputs": [],
   "source": [
    "df_one_hot.to_csv(f'../data/4_one_hot/processed_data.csv', index=False)"
   ]
  }
 ],
 "metadata": {
  "kernelspec": {
   "display_name": "AGH_default",
   "language": "python",
   "name": "python3"
  },
  "language_info": {
   "codemirror_mode": {
    "name": "ipython",
    "version": 3
   },
   "file_extension": ".py",
   "mimetype": "text/x-python",
   "name": "python",
   "nbconvert_exporter": "python",
   "pygments_lexer": "ipython3",
   "version": "3.12.2"
  }
 },
 "nbformat": 4,
 "nbformat_minor": 5
}
