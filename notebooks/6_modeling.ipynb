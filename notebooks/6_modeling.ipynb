{
 "cells": [
  {
   "cell_type": "markdown",
   "id": "984f946c-721b-43e0-b166-949086e35117",
   "metadata": {},
   "source": [
    "W tym notebooku chcemy mieć kod związany z modelami i predykcjami."
   ]
  }
 ],
 "metadata": {
  "kernelspec": {
   "display_name": "projekt_ed",
   "language": "python",
   "name": "projekt_ed"
  },
  "language_info": {
   "codemirror_mode": {
    "name": "ipython",
    "version": 3
   },
   "file_extension": ".py",
   "mimetype": "text/x-python",
   "name": "python",
   "nbconvert_exporter": "python",
   "pygments_lexer": "ipython3",
   "version": "3.11.8"
  }
 },
 "nbformat": 4,
 "nbformat_minor": 5
}
