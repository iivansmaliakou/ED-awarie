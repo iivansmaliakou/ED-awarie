{
 "cells": [
  {
   "cell_type": "code",
   "execution_count": 1,
   "metadata": {},
   "outputs": [],
   "source": [
    "import pandas as pd\n",
    "import os\n",
    "import numpy as np\n",
    "from sklearn.model_selection import train_test_split"
   ]
  },
  {
   "cell_type": "code",
   "execution_count": 10,
   "metadata": {},
   "outputs": [],
   "source": [
    "df = pd.read_csv('../ED-awarie/NaN_OneHot/data_before_OneHot.csv')"
   ]
  },
  {
   "cell_type": "code",
   "execution_count": 20,
   "metadata": {},
   "outputs": [
    {
     "ename": "UnicodeDecodeError",
     "evalue": "'utf-8' codec can't decode byte 0xf1 in position 110028: invalid continuation byte",
     "output_type": "error",
     "traceback": [
      "\u001b[0;31m---------------------------------------------------------------------------\u001b[0m",
      "\u001b[0;31mUnicodeDecodeError\u001b[0m                        Traceback (most recent call last)",
      "\u001b[1;32m/Users/igorzakrocki/Library/CloudStorage/OneDrive-AkademiaGórniczo-Hutniczaim.StanisławaStaszicawKrakowie/AGH/I-DS_8/Eksploracja danych/Projekt/ED-awarie/population_numbers.ipynb Cell 3\u001b[0m line \u001b[0;36m1\n\u001b[0;32m----> <a href='vscode-notebook-cell:/Users/igorzakrocki/Library/CloudStorage/OneDrive-AkademiaG%C3%B3rniczo-Hutniczaim.Stanis%C5%82awaStaszicawKrakowie/AGH/I-DS_8/Eksploracja%20danych/Projekt/ED-awarie/population_numbers.ipynb#W5sZmlsZQ%3D%3D?line=0'>1</a>\u001b[0m pop \u001b[39m=\u001b[39m pd\u001b[39m.\u001b[39;49mread_csv(\u001b[39m'\u001b[39;49m\u001b[39mcbsa-est2011-alldata.csv\u001b[39;49m\u001b[39m'\u001b[39;49m)\n",
      "File \u001b[0;32m/Library/Frameworks/Python.framework/Versions/3.10/lib/python3.10/site-packages/pandas/io/parsers/readers.py:1026\u001b[0m, in \u001b[0;36mread_csv\u001b[0;34m(filepath_or_buffer, sep, delimiter, header, names, index_col, usecols, dtype, engine, converters, true_values, false_values, skipinitialspace, skiprows, skipfooter, nrows, na_values, keep_default_na, na_filter, verbose, skip_blank_lines, parse_dates, infer_datetime_format, keep_date_col, date_parser, date_format, dayfirst, cache_dates, iterator, chunksize, compression, thousands, decimal, lineterminator, quotechar, quoting, doublequote, escapechar, comment, encoding, encoding_errors, dialect, on_bad_lines, delim_whitespace, low_memory, memory_map, float_precision, storage_options, dtype_backend)\u001b[0m\n\u001b[1;32m   1013\u001b[0m kwds_defaults \u001b[39m=\u001b[39m _refine_defaults_read(\n\u001b[1;32m   1014\u001b[0m     dialect,\n\u001b[1;32m   1015\u001b[0m     delimiter,\n\u001b[0;32m   (...)\u001b[0m\n\u001b[1;32m   1022\u001b[0m     dtype_backend\u001b[39m=\u001b[39mdtype_backend,\n\u001b[1;32m   1023\u001b[0m )\n\u001b[1;32m   1024\u001b[0m kwds\u001b[39m.\u001b[39mupdate(kwds_defaults)\n\u001b[0;32m-> 1026\u001b[0m \u001b[39mreturn\u001b[39;00m _read(filepath_or_buffer, kwds)\n",
      "File \u001b[0;32m/Library/Frameworks/Python.framework/Versions/3.10/lib/python3.10/site-packages/pandas/io/parsers/readers.py:620\u001b[0m, in \u001b[0;36m_read\u001b[0;34m(filepath_or_buffer, kwds)\u001b[0m\n\u001b[1;32m    617\u001b[0m _validate_names(kwds\u001b[39m.\u001b[39mget(\u001b[39m\"\u001b[39m\u001b[39mnames\u001b[39m\u001b[39m\"\u001b[39m, \u001b[39mNone\u001b[39;00m))\n\u001b[1;32m    619\u001b[0m \u001b[39m# Create the parser.\u001b[39;00m\n\u001b[0;32m--> 620\u001b[0m parser \u001b[39m=\u001b[39m TextFileReader(filepath_or_buffer, \u001b[39m*\u001b[39;49m\u001b[39m*\u001b[39;49mkwds)\n\u001b[1;32m    622\u001b[0m \u001b[39mif\u001b[39;00m chunksize \u001b[39mor\u001b[39;00m iterator:\n\u001b[1;32m    623\u001b[0m     \u001b[39mreturn\u001b[39;00m parser\n",
      "File \u001b[0;32m/Library/Frameworks/Python.framework/Versions/3.10/lib/python3.10/site-packages/pandas/io/parsers/readers.py:1620\u001b[0m, in \u001b[0;36mTextFileReader.__init__\u001b[0;34m(self, f, engine, **kwds)\u001b[0m\n\u001b[1;32m   1617\u001b[0m     \u001b[39mself\u001b[39m\u001b[39m.\u001b[39moptions[\u001b[39m\"\u001b[39m\u001b[39mhas_index_names\u001b[39m\u001b[39m\"\u001b[39m] \u001b[39m=\u001b[39m kwds[\u001b[39m\"\u001b[39m\u001b[39mhas_index_names\u001b[39m\u001b[39m\"\u001b[39m]\n\u001b[1;32m   1619\u001b[0m \u001b[39mself\u001b[39m\u001b[39m.\u001b[39mhandles: IOHandles \u001b[39m|\u001b[39m \u001b[39mNone\u001b[39;00m \u001b[39m=\u001b[39m \u001b[39mNone\u001b[39;00m\n\u001b[0;32m-> 1620\u001b[0m \u001b[39mself\u001b[39m\u001b[39m.\u001b[39m_engine \u001b[39m=\u001b[39m \u001b[39mself\u001b[39;49m\u001b[39m.\u001b[39;49m_make_engine(f, \u001b[39mself\u001b[39;49m\u001b[39m.\u001b[39;49mengine)\n",
      "File \u001b[0;32m/Library/Frameworks/Python.framework/Versions/3.10/lib/python3.10/site-packages/pandas/io/parsers/readers.py:1898\u001b[0m, in \u001b[0;36mTextFileReader._make_engine\u001b[0;34m(self, f, engine)\u001b[0m\n\u001b[1;32m   1895\u001b[0m     \u001b[39mraise\u001b[39;00m \u001b[39mValueError\u001b[39;00m(msg)\n\u001b[1;32m   1897\u001b[0m \u001b[39mtry\u001b[39;00m:\n\u001b[0;32m-> 1898\u001b[0m     \u001b[39mreturn\u001b[39;00m mapping[engine](f, \u001b[39m*\u001b[39;49m\u001b[39m*\u001b[39;49m\u001b[39mself\u001b[39;49m\u001b[39m.\u001b[39;49moptions)\n\u001b[1;32m   1899\u001b[0m \u001b[39mexcept\u001b[39;00m \u001b[39mException\u001b[39;00m:\n\u001b[1;32m   1900\u001b[0m     \u001b[39mif\u001b[39;00m \u001b[39mself\u001b[39m\u001b[39m.\u001b[39mhandles \u001b[39mis\u001b[39;00m \u001b[39mnot\u001b[39;00m \u001b[39mNone\u001b[39;00m:\n",
      "File \u001b[0;32m/Library/Frameworks/Python.framework/Versions/3.10/lib/python3.10/site-packages/pandas/io/parsers/c_parser_wrapper.py:93\u001b[0m, in \u001b[0;36mCParserWrapper.__init__\u001b[0;34m(self, src, **kwds)\u001b[0m\n\u001b[1;32m     90\u001b[0m \u001b[39mif\u001b[39;00m kwds[\u001b[39m\"\u001b[39m\u001b[39mdtype_backend\u001b[39m\u001b[39m\"\u001b[39m] \u001b[39m==\u001b[39m \u001b[39m\"\u001b[39m\u001b[39mpyarrow\u001b[39m\u001b[39m\"\u001b[39m:\n\u001b[1;32m     91\u001b[0m     \u001b[39m# Fail here loudly instead of in cython after reading\u001b[39;00m\n\u001b[1;32m     92\u001b[0m     import_optional_dependency(\u001b[39m\"\u001b[39m\u001b[39mpyarrow\u001b[39m\u001b[39m\"\u001b[39m)\n\u001b[0;32m---> 93\u001b[0m \u001b[39mself\u001b[39m\u001b[39m.\u001b[39m_reader \u001b[39m=\u001b[39m parsers\u001b[39m.\u001b[39;49mTextReader(src, \u001b[39m*\u001b[39;49m\u001b[39m*\u001b[39;49mkwds)\n\u001b[1;32m     95\u001b[0m \u001b[39mself\u001b[39m\u001b[39m.\u001b[39munnamed_cols \u001b[39m=\u001b[39m \u001b[39mself\u001b[39m\u001b[39m.\u001b[39m_reader\u001b[39m.\u001b[39munnamed_cols\n\u001b[1;32m     97\u001b[0m \u001b[39m# error: Cannot determine type of 'names'\u001b[39;00m\n",
      "File \u001b[0;32mparsers.pyx:574\u001b[0m, in \u001b[0;36mpandas._libs.parsers.TextReader.__cinit__\u001b[0;34m()\u001b[0m\n",
      "File \u001b[0;32mparsers.pyx:663\u001b[0m, in \u001b[0;36mpandas._libs.parsers.TextReader._get_header\u001b[0;34m()\u001b[0m\n",
      "File \u001b[0;32mparsers.pyx:874\u001b[0m, in \u001b[0;36mpandas._libs.parsers.TextReader._tokenize_rows\u001b[0;34m()\u001b[0m\n",
      "File \u001b[0;32mparsers.pyx:891\u001b[0m, in \u001b[0;36mpandas._libs.parsers.TextReader._check_tokenize_status\u001b[0;34m()\u001b[0m\n",
      "File \u001b[0;32mparsers.pyx:2053\u001b[0m, in \u001b[0;36mpandas._libs.parsers.raise_parser_error\u001b[0;34m()\u001b[0m\n",
      "\u001b[0;31mUnicodeDecodeError\u001b[0m: 'utf-8' codec can't decode byte 0xf1 in position 110028: invalid continuation byte"
     ]
    }
   ],
   "source": [
    "pop = pd.read_csv('cbsa-est2011-alldata.csv')"
   ]
  },
  {
   "cell_type": "code",
   "execution_count": 19,
   "metadata": {},
   "outputs": [
    {
     "ename": "TypeError",
     "evalue": "'tuple' object is not callable",
     "output_type": "error",
     "traceback": [
      "\u001b[0;31m---------------------------------------------------------------------------\u001b[0m",
      "\u001b[0;31mTypeError\u001b[0m                                 Traceback (most recent call last)",
      "\u001b[1;32m/Users/igorzakrocki/Library/CloudStorage/OneDrive-AkademiaGórniczo-Hutniczaim.StanisławaStaszicawKrakowie/AGH/I-DS_8/Eksploracja danych/Projekt/ED-awarie/population_numbers.ipynb Cell 4\u001b[0m line \u001b[0;36m1\n\u001b[0;32m----> <a href='vscode-notebook-cell:/Users/igorzakrocki/Library/CloudStorage/OneDrive-AkademiaG%C3%B3rniczo-Hutniczaim.Stanis%C5%82awaStaszicawKrakowie/AGH/I-DS_8/Eksploracja%20danych/Projekt/ED-awarie/population_numbers.ipynb#W6sZmlsZQ%3D%3D?line=0'>1</a>\u001b[0m pop\u001b[39m.\u001b[39;49mshape()\n",
      "\u001b[0;31mTypeError\u001b[0m: 'tuple' object is not callable"
     ]
    }
   ],
   "source": [
    "pop.shape()"
   ]
  },
  {
   "cell_type": "code",
   "execution_count": 11,
   "metadata": {},
   "outputs": [
    {
     "data": {
      "text/html": [
       "<div>\n",
       "<style scoped>\n",
       "    .dataframe tbody tr th:only-of-type {\n",
       "        vertical-align: middle;\n",
       "    }\n",
       "\n",
       "    .dataframe tbody tr th {\n",
       "        vertical-align: top;\n",
       "    }\n",
       "\n",
       "    .dataframe thead th {\n",
       "        text-align: right;\n",
       "    }\n",
       "</style>\n",
       "<table border=\"1\" class=\"dataframe\">\n",
       "  <thead>\n",
       "    <tr style=\"text-align: right;\">\n",
       "      <th></th>\n",
       "      <th>Unnamed: 0</th>\n",
       "      <th>case_idx</th>\n",
       "      <th>data_source</th>\n",
       "      <th>case_lat</th>\n",
       "      <th>case_lon</th>\n",
       "      <th>case_date</th>\n",
       "      <th>INSTALLATION_YEAR</th>\n",
       "      <th>COMMODITY_RELEASED_TYPE</th>\n",
       "      <th>INTENTIONAL_RELEASE_BBLS</th>\n",
       "      <th>UNINTENTIONAL_RELEASE_BBLS</th>\n",
       "      <th>...</th>\n",
       "      <th>ACCIDENT_PSIG</th>\n",
       "      <th>MOP_PSIG</th>\n",
       "      <th>accident_pressure_as_%_mop_psig</th>\n",
       "      <th>PIPELINE_FUNCTION</th>\n",
       "      <th>SCADA_IN_PLACE_IND</th>\n",
       "      <th>INVESTIGATION_STATUS</th>\n",
       "      <th>EMPLOYEE_DRUG_TEST_IND</th>\n",
       "      <th>CONTRACTOR_DRUG_TEST_IND</th>\n",
       "      <th>zone</th>\n",
       "      <th>TAVG</th>\n",
       "    </tr>\n",
       "  </thead>\n",
       "  <tbody>\n",
       "    <tr>\n",
       "      <th>0</th>\n",
       "      <td>4992</td>\n",
       "      <td>5838</td>\n",
       "      <td>hazardous_liquid</td>\n",
       "      <td>41.318250</td>\n",
       "      <td>-95.937170</td>\n",
       "      <td>2010-06-30</td>\n",
       "      <td>1946-01-01</td>\n",
       "      <td>REFINED AND/OR PETROLEUM PRODUCT (NON-HVL) WHI...</td>\n",
       "      <td>0.0</td>\n",
       "      <td>184.14</td>\n",
       "      <td>...</td>\n",
       "      <td>63.0</td>\n",
       "      <td>1080.00000</td>\n",
       "      <td>5.833333</td>\n",
       "      <td>&gt; 20% SMYS REGULATED TRANSMISSION</td>\n",
       "      <td>1.0</td>\n",
       "      <td>YES, SPECIFY INVESTIGATION RESULT(S): (SELECT ...</td>\n",
       "      <td>1.0</td>\n",
       "      <td>0.0</td>\n",
       "      <td>Cold</td>\n",
       "      <td>20.030</td>\n",
       "    </tr>\n",
       "    <tr>\n",
       "      <th>1</th>\n",
       "      <td>519</td>\n",
       "      <td>588</td>\n",
       "      <td>hazardous_liquid</td>\n",
       "      <td>40.676195</td>\n",
       "      <td>-81.347826</td>\n",
       "      <td>2021-11-11</td>\n",
       "      <td>2017-01-01</td>\n",
       "      <td>REFINED AND/OR PETROLEUM PRODUCT (NON-HVL) WHI...</td>\n",
       "      <td>0.0</td>\n",
       "      <td>0.50</td>\n",
       "      <td>...</td>\n",
       "      <td>1830.0</td>\n",
       "      <td>3204.00000</td>\n",
       "      <td>57.116105</td>\n",
       "      <td>&gt; 20% SMYS REGULATED TRANSMISSION</td>\n",
       "      <td>1.0</td>\n",
       "      <td>YES, SPECIFY INVESTIGATION RESULT(S): (SELECT ...</td>\n",
       "      <td>0.0</td>\n",
       "      <td>0.0</td>\n",
       "      <td>Cold</td>\n",
       "      <td>10.435</td>\n",
       "    </tr>\n",
       "    <tr>\n",
       "      <th>2</th>\n",
       "      <td>4339</td>\n",
       "      <td>5128</td>\n",
       "      <td>hazardous_liquid</td>\n",
       "      <td>29.419652</td>\n",
       "      <td>-95.308771</td>\n",
       "      <td>2012-04-30</td>\n",
       "      <td>NaN</td>\n",
       "      <td>HVL OR OTHER FLAMMABLE OR TOXIC FLUID WHICH IS...</td>\n",
       "      <td>0.0</td>\n",
       "      <td>3.00</td>\n",
       "      <td>...</td>\n",
       "      <td>NaN</td>\n",
       "      <td>684.89349</td>\n",
       "      <td>100.000000</td>\n",
       "      <td>&gt; 20% SMYS REGULATED TRANSMISSION</td>\n",
       "      <td>1.0</td>\n",
       "      <td>NO, THE OPERATOR DID NOT FIND THAT AN INVESTIG...</td>\n",
       "      <td>0.0</td>\n",
       "      <td>0.0</td>\n",
       "      <td>Hot-Humid</td>\n",
       "      <td>21.805</td>\n",
       "    </tr>\n",
       "    <tr>\n",
       "      <th>3</th>\n",
       "      <td>4320</td>\n",
       "      <td>5106</td>\n",
       "      <td>hazardous_liquid</td>\n",
       "      <td>40.352903</td>\n",
       "      <td>-74.125619</td>\n",
       "      <td>2012-05-19</td>\n",
       "      <td>NaN</td>\n",
       "      <td>REFINED AND/OR PETROLEUM PRODUCT (NON-HVL) WHI...</td>\n",
       "      <td>0.0</td>\n",
       "      <td>53.18</td>\n",
       "      <td>...</td>\n",
       "      <td>450.0</td>\n",
       "      <td>536.00000</td>\n",
       "      <td>83.955224</td>\n",
       "      <td>&lt; 20% SMYS REGULATED TRANSMISSION</td>\n",
       "      <td>1.0</td>\n",
       "      <td>YES, SPECIFY INVESTIGATION RESULT(S): (SELECT ...</td>\n",
       "      <td>0.0</td>\n",
       "      <td>0.0</td>\n",
       "      <td>Mixed-Humid</td>\n",
       "      <td>15.075</td>\n",
       "    </tr>\n",
       "  </tbody>\n",
       "</table>\n",
       "<p>4 rows × 46 columns</p>\n",
       "</div>"
      ],
      "text/plain": [
       "   Unnamed: 0  case_idx       data_source   case_lat   case_lon   case_date  \\\n",
       "0        4992      5838  hazardous_liquid  41.318250 -95.937170  2010-06-30   \n",
       "1         519       588  hazardous_liquid  40.676195 -81.347826  2021-11-11   \n",
       "2        4339      5128  hazardous_liquid  29.419652 -95.308771  2012-04-30   \n",
       "3        4320      5106  hazardous_liquid  40.352903 -74.125619  2012-05-19   \n",
       "\n",
       "  INSTALLATION_YEAR                            COMMODITY_RELEASED_TYPE  \\\n",
       "0        1946-01-01  REFINED AND/OR PETROLEUM PRODUCT (NON-HVL) WHI...   \n",
       "1        2017-01-01  REFINED AND/OR PETROLEUM PRODUCT (NON-HVL) WHI...   \n",
       "2               NaN  HVL OR OTHER FLAMMABLE OR TOXIC FLUID WHICH IS...   \n",
       "3               NaN  REFINED AND/OR PETROLEUM PRODUCT (NON-HVL) WHI...   \n",
       "\n",
       "   INTENTIONAL_RELEASE_BBLS  UNINTENTIONAL_RELEASE_BBLS  ...  ACCIDENT_PSIG  \\\n",
       "0                       0.0                      184.14  ...           63.0   \n",
       "1                       0.0                        0.50  ...         1830.0   \n",
       "2                       0.0                        3.00  ...            NaN   \n",
       "3                       0.0                       53.18  ...          450.0   \n",
       "\n",
       "     MOP_PSIG accident_pressure_as_%_mop_psig  \\\n",
       "0  1080.00000                        5.833333   \n",
       "1  3204.00000                       57.116105   \n",
       "2   684.89349                      100.000000   \n",
       "3   536.00000                       83.955224   \n",
       "\n",
       "                   PIPELINE_FUNCTION  SCADA_IN_PLACE_IND  \\\n",
       "0  > 20% SMYS REGULATED TRANSMISSION                 1.0   \n",
       "1  > 20% SMYS REGULATED TRANSMISSION                 1.0   \n",
       "2  > 20% SMYS REGULATED TRANSMISSION                 1.0   \n",
       "3  < 20% SMYS REGULATED TRANSMISSION                 1.0   \n",
       "\n",
       "                                INVESTIGATION_STATUS  EMPLOYEE_DRUG_TEST_IND  \\\n",
       "0  YES, SPECIFY INVESTIGATION RESULT(S): (SELECT ...                     1.0   \n",
       "1  YES, SPECIFY INVESTIGATION RESULT(S): (SELECT ...                     0.0   \n",
       "2  NO, THE OPERATOR DID NOT FIND THAT AN INVESTIG...                     0.0   \n",
       "3  YES, SPECIFY INVESTIGATION RESULT(S): (SELECT ...                     0.0   \n",
       "\n",
       "  CONTRACTOR_DRUG_TEST_IND         zone    TAVG  \n",
       "0                      0.0         Cold  20.030  \n",
       "1                      0.0         Cold  10.435  \n",
       "2                      0.0    Hot-Humid  21.805  \n",
       "3                      0.0  Mixed-Humid  15.075  \n",
       "\n",
       "[4 rows x 46 columns]"
      ]
     },
     "execution_count": 11,
     "metadata": {},
     "output_type": "execute_result"
    }
   ],
   "source": [
    "df.head(4)"
   ]
  },
  {
   "cell_type": "code",
   "execution_count": 14,
   "metadata": {},
   "outputs": [
    {
     "data": {
      "text/plain": [
       "'2022-12-31'"
      ]
     },
     "execution_count": 14,
     "metadata": {},
     "output_type": "execute_result"
    }
   ],
   "source": [
    "df['case_date'].max()"
   ]
  },
  {
   "cell_type": "code",
   "execution_count": 12,
   "metadata": {},
   "outputs": [
    {
     "name": "stdout",
     "output_type": "stream",
     "text": [
      "Kolumny zawierające wartości NaN:\n",
      "['INSTALLATION_YEAR', 'ITEM_INVOLVED', 'NARRATIVE', 'SYSTEM_PART_INVOLVED', 'ACCIDENT_PSIG']\n",
      "Procent NaN w kolumnie INSTALLATION_YEAR: 28.09%\n",
      "Procent NaN w kolumnie ITEM_INVOLVED: 16.65%\n",
      "Procent NaN w kolumnie NARRATIVE: 0.53%\n",
      "Procent NaN w kolumnie SYSTEM_PART_INVOLVED: 2.45%\n",
      "Procent NaN w kolumnie ACCIDENT_PSIG: 11.53%\n"
     ]
    }
   ],
   "source": [
    "nan_columns = df.columns[df.isna().any()].tolist()\n",
    "\n",
    "if len(nan_columns) == 0:\n",
    "        print(\"Nie ma wartości NaN w żadnej kolumnie.\")\n",
    "else:\n",
    "    print(\"Kolumny zawierające wartości NaN:\")\n",
    "    print(nan_columns)\n",
    "\n",
    "    # Obliczanie procentowego udziału wartości NaN w każdej kolumnie\n",
    "    for col in nan_columns:\n",
    "        nan_percentage = (df[col].isna().sum() / len(df)) * 100\n",
    "        print(f\"Procent NaN w kolumnie {col}: {nan_percentage:.2f}%\")"
   ]
  }
 ],
 "metadata": {
  "kernelspec": {
   "display_name": "Python 3",
   "language": "python",
   "name": "python3"
  },
  "language_info": {
   "codemirror_mode": {
    "name": "ipython",
    "version": 3
   },
   "file_extension": ".py",
   "mimetype": "text/x-python",
   "name": "python",
   "nbconvert_exporter": "python",
   "pygments_lexer": "ipython3",
   "version": "3.10.10"
  }
 },
 "nbformat": 4,
 "nbformat_minor": 2
}
