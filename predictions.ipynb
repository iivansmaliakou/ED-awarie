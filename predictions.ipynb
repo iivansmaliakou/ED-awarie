{
 "cells": [
  {
   "cell_type": "code",
   "execution_count": 177,
   "metadata": {},
   "outputs": [],
   "source": [
    "import time\n",
    "import datetime\n",
    "import pandas as pd\n",
    "import numpy as np\n",
    "from sklearn.model_selection import train_test_split, KFold\n",
    "from sklearn.dummy import DummyRegressor\n",
    "from sklearn.metrics import r2_score, mean_squared_error\n",
    "from sklearn.linear_model import LinearRegression\n",
    "from sklearn.tree import DecisionTreeRegressor\n",
    "from sklearn.model_selection import GridSearchCV\n",
    "SEED = 26042001"
   ]
  },
  {
   "cell_type": "code",
   "execution_count": 4,
   "metadata": {},
   "outputs": [],
   "source": [
    "df = pd.read_csv('NaN_OneHot/processed_data.csv')\n",
    "tf_idf_ds = pd.read_csv('data/processed_data/tf-idf.ivan.csv')\n",
    "df_united = df.drop(columns=['NARRATIVE']).join(tf_idf_ds).drop(columns=['Unnamed: 0', 'case_idx.1', 'case_idx'])"
   ]
  },
  {
   "cell_type": "code",
   "execution_count": 6,
   "metadata": {},
   "outputs": [],
   "source": [
    "df_united['TAVG'] = df_united['TAVG'].fillna(df_united['TAVG'].mean())"
   ]
  },
  {
   "cell_type": "code",
   "execution_count": 12,
   "metadata": {},
   "outputs": [
    {
     "data": {
      "text/plain": [
       "case_lon                                             7694\n",
       "case_lat                                             7681\n",
       "inst_age_in_days                                     4985\n",
       "TAVG                                                 3903\n",
       "case_date                                            3807\n",
       "accident_pressure_as_%_mop_psig                      3663\n",
       "UNINTENTIONAL_RELEASE_BBLS                           2997\n",
       "EST_COST_PROP_DAMAGE                                 2480\n",
       "EST_COST_EMERGENCY                                   2021\n",
       "EST_COST_GAS_RELEASED                                1212\n",
       "EST_COST_ENVIRONMENTAL                               1018\n",
       "MOP_PSIG                                              981\n",
       "INTENTIONAL_RELEASE_BBLS                              837\n",
       "EST_COST_OTHER                                        513\n",
       "EST_COST_OPER_PAID                                    490\n",
       "NUM_PUB_EVACUATED                                     105\n",
       "CAUSE_DETAILS                                          54\n",
       "INJURE                                                 16\n",
       "FATAL                                                   8\n",
       "RELEASE_TYPE                                            5\n",
       "ITEM_INVOLVED_FILTER/STRAINER/SEPARATOR                 2\n",
       "ITEM_INVOLVED_JOINT, INCLUDING HEAT-AFFECTED ZONE       2\n",
       "ITEM_INVOLVED_INSTRUMENTATION                           2\n",
       "ITEM_INVOLVED_HOT TAP EQUIPMENT                         2\n",
       "ITEM_INVOLVED_FLANGE ASSEMBLY                           2\n",
       "dtype: int64"
      ]
     },
     "execution_count": 12,
     "metadata": {},
     "output_type": "execute_result"
    }
   ],
   "source": [
    "df_united.nunique().sort_values(ascending=False)[500:].head(25) # 500 pierwszych kolumn to są PC z PCA kolumny NARRATIVE."
   ]
  },
  {
   "cell_type": "code",
   "execution_count": 62,
   "metadata": {},
   "outputs": [
    {
     "data": {
      "text/html": [
       "<div>\n",
       "<style scoped>\n",
       "    .dataframe tbody tr th:only-of-type {\n",
       "        vertical-align: middle;\n",
       "    }\n",
       "\n",
       "    .dataframe tbody tr th {\n",
       "        vertical-align: top;\n",
       "    }\n",
       "\n",
       "    .dataframe thead th {\n",
       "        text-align: right;\n",
       "    }\n",
       "</style>\n",
       "<table border=\"1\" class=\"dataframe\">\n",
       "  <thead>\n",
       "    <tr style=\"text-align: right;\">\n",
       "      <th></th>\n",
       "      <th>case_date</th>\n",
       "      <th>CAUSE_DETAILS</th>\n",
       "      <th>RELEASE_TYPE</th>\n",
       "    </tr>\n",
       "  </thead>\n",
       "  <tbody>\n",
       "    <tr>\n",
       "      <th>0</th>\n",
       "      <td>2022-12-31</td>\n",
       "      <td>EXTERNAL CORROSION</td>\n",
       "      <td>LEAK</td>\n",
       "    </tr>\n",
       "    <tr>\n",
       "      <th>1</th>\n",
       "      <td>2022-12-30</td>\n",
       "      <td>THREADED CONNECTION/COUPLING FAILURE</td>\n",
       "      <td>LEAK</td>\n",
       "    </tr>\n",
       "    <tr>\n",
       "      <th>2</th>\n",
       "      <td>2022-12-26</td>\n",
       "      <td>NON-THREADED CONNECTION FAILURE</td>\n",
       "      <td>LEAK</td>\n",
       "    </tr>\n",
       "    <tr>\n",
       "      <th>3</th>\n",
       "      <td>2022-12-26</td>\n",
       "      <td>OTHER EQUIPMENT FAILURE</td>\n",
       "      <td>LEAK</td>\n",
       "    </tr>\n",
       "    <tr>\n",
       "      <th>4</th>\n",
       "      <td>2022-12-25</td>\n",
       "      <td>FAILURE OF EQUIPMENT BODY (EXCEPT PUMP), TANK ...</td>\n",
       "      <td>LEAK</td>\n",
       "    </tr>\n",
       "    <tr>\n",
       "      <th>...</th>\n",
       "      <td>...</td>\n",
       "      <td>...</td>\n",
       "      <td>...</td>\n",
       "    </tr>\n",
       "    <tr>\n",
       "      <th>8129</th>\n",
       "      <td>2022-08-17</td>\n",
       "      <td>EXCAVATION DAMAGE BY THIRD PARTY</td>\n",
       "      <td>OTHER</td>\n",
       "    </tr>\n",
       "    <tr>\n",
       "      <th>8130</th>\n",
       "      <td>2022-08-09</td>\n",
       "      <td>EQUIPMENT NOT INSTALLED PROPERLY</td>\n",
       "      <td>LEAK</td>\n",
       "    </tr>\n",
       "    <tr>\n",
       "      <th>8131</th>\n",
       "      <td>2022-06-06</td>\n",
       "      <td>INTERNAL CORROSION</td>\n",
       "      <td>RUPTURE</td>\n",
       "    </tr>\n",
       "    <tr>\n",
       "      <th>8132</th>\n",
       "      <td>2022-05-25</td>\n",
       "      <td>DESIGN-, CONSTRUCTION-, INSTALLATION-, OR FABR...</td>\n",
       "      <td>OTHER</td>\n",
       "    </tr>\n",
       "    <tr>\n",
       "      <th>8133</th>\n",
       "      <td>2022-05-17</td>\n",
       "      <td>INTERNAL CORROSION</td>\n",
       "      <td>LEAK</td>\n",
       "    </tr>\n",
       "  </tbody>\n",
       "</table>\n",
       "<p>8134 rows × 3 columns</p>\n",
       "</div>"
      ],
      "text/plain": [
       "       case_date                                      CAUSE_DETAILS  \\\n",
       "0     2022-12-31                                 EXTERNAL CORROSION   \n",
       "1     2022-12-30               THREADED CONNECTION/COUPLING FAILURE   \n",
       "2     2022-12-26                    NON-THREADED CONNECTION FAILURE   \n",
       "3     2022-12-26                            OTHER EQUIPMENT FAILURE   \n",
       "4     2022-12-25  FAILURE OF EQUIPMENT BODY (EXCEPT PUMP), TANK ...   \n",
       "...          ...                                                ...   \n",
       "8129  2022-08-17                   EXCAVATION DAMAGE BY THIRD PARTY   \n",
       "8130  2022-08-09                   EQUIPMENT NOT INSTALLED PROPERLY   \n",
       "8131  2022-06-06                                 INTERNAL CORROSION   \n",
       "8132  2022-05-25  DESIGN-, CONSTRUCTION-, INSTALLATION-, OR FABR...   \n",
       "8133  2022-05-17                                 INTERNAL CORROSION   \n",
       "\n",
       "     RELEASE_TYPE  \n",
       "0            LEAK  \n",
       "1            LEAK  \n",
       "2            LEAK  \n",
       "3            LEAK  \n",
       "4            LEAK  \n",
       "...           ...  \n",
       "8129        OTHER  \n",
       "8130         LEAK  \n",
       "8131      RUPTURE  \n",
       "8132        OTHER  \n",
       "8133         LEAK  \n",
       "\n",
       "[8134 rows x 3 columns]"
      ]
     },
     "execution_count": 62,
     "metadata": {},
     "output_type": "execute_result"
    }
   ],
   "source": [
    "df_united.loc[:, df_united.dtypes == np.dtype('O')]"
   ]
  },
  {
   "cell_type": "code",
   "execution_count": 72,
   "metadata": {},
   "outputs": [],
   "source": [
    "df_united = df_united.join(pd.get_dummies(df_united.loc[:, ['RELEASE_TYPE', 'CAUSE_DETAILS']], dtype=int))"
   ]
  },
  {
   "cell_type": "code",
   "execution_count": 74,
   "metadata": {},
   "outputs": [],
   "source": [
    "df_united = df_united.drop(columns=['RELEASE_TYPE', 'CAUSE_DETAILS'])"
   ]
  },
  {
   "cell_type": "code",
   "execution_count": 85,
   "metadata": {},
   "outputs": [
    {
     "data": {
      "text/html": [
       "<div>\n",
       "<style scoped>\n",
       "    .dataframe tbody tr th:only-of-type {\n",
       "        vertical-align: middle;\n",
       "    }\n",
       "\n",
       "    .dataframe tbody tr th {\n",
       "        vertical-align: top;\n",
       "    }\n",
       "\n",
       "    .dataframe thead th {\n",
       "        text-align: right;\n",
       "    }\n",
       "</style>\n",
       "<table border=\"1\" class=\"dataframe\">\n",
       "  <thead>\n",
       "    <tr style=\"text-align: right;\">\n",
       "      <th></th>\n",
       "      <th>case_date</th>\n",
       "    </tr>\n",
       "  </thead>\n",
       "  <tbody>\n",
       "    <tr>\n",
       "      <th>0</th>\n",
       "      <td>2022-12-31</td>\n",
       "    </tr>\n",
       "    <tr>\n",
       "      <th>1</th>\n",
       "      <td>2022-12-30</td>\n",
       "    </tr>\n",
       "    <tr>\n",
       "      <th>2</th>\n",
       "      <td>2022-12-26</td>\n",
       "    </tr>\n",
       "    <tr>\n",
       "      <th>3</th>\n",
       "      <td>2022-12-26</td>\n",
       "    </tr>\n",
       "    <tr>\n",
       "      <th>4</th>\n",
       "      <td>2022-12-25</td>\n",
       "    </tr>\n",
       "    <tr>\n",
       "      <th>...</th>\n",
       "      <td>...</td>\n",
       "    </tr>\n",
       "    <tr>\n",
       "      <th>8129</th>\n",
       "      <td>2022-08-17</td>\n",
       "    </tr>\n",
       "    <tr>\n",
       "      <th>8130</th>\n",
       "      <td>2022-08-09</td>\n",
       "    </tr>\n",
       "    <tr>\n",
       "      <th>8131</th>\n",
       "      <td>2022-06-06</td>\n",
       "    </tr>\n",
       "    <tr>\n",
       "      <th>8132</th>\n",
       "      <td>2022-05-25</td>\n",
       "    </tr>\n",
       "    <tr>\n",
       "      <th>8133</th>\n",
       "      <td>2022-05-17</td>\n",
       "    </tr>\n",
       "  </tbody>\n",
       "</table>\n",
       "<p>8134 rows × 1 columns</p>\n",
       "</div>"
      ],
      "text/plain": [
       "       case_date\n",
       "0     2022-12-31\n",
       "1     2022-12-30\n",
       "2     2022-12-26\n",
       "3     2022-12-26\n",
       "4     2022-12-25\n",
       "...          ...\n",
       "8129  2022-08-17\n",
       "8130  2022-08-09\n",
       "8131  2022-06-06\n",
       "8132  2022-05-25\n",
       "8133  2022-05-17\n",
       "\n",
       "[8134 rows x 1 columns]"
      ]
     },
     "execution_count": 85,
     "metadata": {},
     "output_type": "execute_result"
    }
   ],
   "source": [
    "df_united.loc[:, df_united.dtypes == np.dtype('O')]"
   ]
  },
  {
   "cell_type": "code",
   "execution_count": 94,
   "metadata": {},
   "outputs": [],
   "source": [
    "df_united['case_date'] = df_united['case_date'].apply(lambda date: time.mktime(datetime.datetime.strptime(date, \"%Y-%m-%d\").timetuple()) / 86400)"
   ]
  },
  {
   "cell_type": "code",
   "execution_count": 95,
   "metadata": {},
   "outputs": [
    {
     "data": {
      "text/plain": [
       "0       19356.958333\n",
       "1       19355.958333\n",
       "2       19351.958333\n",
       "3       19351.958333\n",
       "4       19350.958333\n",
       "            ...     \n",
       "8129    19220.916667\n",
       "8130    19212.916667\n",
       "8131    19148.916667\n",
       "8132    19136.916667\n",
       "8133    19128.916667\n",
       "Name: case_date, Length: 8134, dtype: float64"
      ]
     },
     "execution_count": 95,
     "metadata": {},
     "output_type": "execute_result"
    }
   ],
   "source": [
    "df_united['case_date']"
   ]
  },
  {
   "cell_type": "markdown",
   "metadata": {},
   "source": [
    "dodajemy roczną cykliczność naszym danym "
   ]
  },
  {
   "cell_type": "code",
   "execution_count": 96,
   "metadata": {},
   "outputs": [],
   "source": [
    "df_united['case_date_sin'] = np.sin(2*np.pi * df_united['case_date'] / 365)"
   ]
  },
  {
   "cell_type": "code",
   "execution_count": 106,
   "metadata": {},
   "outputs": [
    {
     "data": {
      "text/plain": [
       "array([dtype('float64'), dtype('int64')], dtype=object)"
      ]
     },
     "execution_count": 106,
     "metadata": {},
     "output_type": "execute_result"
    }
   ],
   "source": [
    "df_united.dtypes.unique()"
   ]
  },
  {
   "cell_type": "code",
   "execution_count": 130,
   "metadata": {},
   "outputs": [
    {
     "data": {
      "text/plain": [
       "case_lat                  0\n",
       "narrative_tfidf-PC-312    0\n",
       "narrative_tfidf-PC-314    0\n",
       "narrative_tfidf-PC-315    0\n",
       "narrative_tfidf-PC-316    0\n",
       "                         ..\n",
       "narrative_tfidf-PC-80     0\n",
       "narrative_tfidf-PC-81     0\n",
       "narrative_tfidf-PC-82     0\n",
       "narrative_tfidf-PC-83     0\n",
       "case_date_sin             0\n",
       "Length: 722, dtype: int64"
      ]
     },
     "execution_count": 130,
     "metadata": {},
     "output_type": "execute_result"
    }
   ],
   "source": [
    "df_united.apply(lambda col: (col == np.inf).sum()).sort_values(ascending=False)"
   ]
  },
  {
   "cell_type": "code",
   "execution_count": 125,
   "metadata": {},
   "outputs": [],
   "source": [
    "df_united[df_united['accident_pressure_as_%_mop_psig'] == np.inf] = 5.56553"
   ]
  },
  {
   "cell_type": "code",
   "execution_count": 129,
   "metadata": {},
   "outputs": [],
   "source": [
    "df_united[df_united['accident_pressure_as_%_mop_psig'] == 5.56553] = df_united['accident_pressure_as_%_mop_psig'].max()"
   ]
  },
  {
   "cell_type": "markdown",
   "metadata": {},
   "source": [
    "**DANE ZOSTAŁY PRZETWARZONE!**"
   ]
  },
  {
   "cell_type": "markdown",
   "metadata": {},
   "source": [
    "Będziemy przywidywać `EST_COST_PROP_DAMAGE`, czyli oszacowany koszt szkód majątkowych. Oczywiście to jest zadanie typu regressii. </br> \n",
    "Najpierw rozdzielimy nasze dane i weźmiemy stosunek train/test/valid = 0.6/0.2/0.2.   "
   ]
  },
  {
   "cell_type": "code",
   "execution_count": 171,
   "metadata": {},
   "outputs": [],
   "source": [
    "X, y = df_united.drop(columns=['inst_age_in_days']), df_united['inst_age_in_days']\n",
    "X_train, X_test_valid_tmp, y_train, y_test_valid_tmp = train_test_split(X, y, train_size = 0.6, random_state=SEED)\n",
    "X_valid, X_test, y_valid, y_test = train_test_split(X_test_valid_tmp, y_test_valid_tmp, train_size = 0.5, random_state=SEED)"
   ]
  },
  {
   "cell_type": "markdown",
   "metadata": {},
   "source": [
    "Określijmy sobie poziom odniesienia jako \"zawsze przywidujemy średnią\" oraz załóżmy RMSE oraz R2 jako metrykę dla naszego regressora. <br/>"
   ]
  },
  {
   "cell_type": "code",
   "execution_count": 172,
   "metadata": {},
   "outputs": [
    {
     "name": "stdout",
     "output_type": "stream",
     "text": [
      "R2 of a dummy regressor is -0.0024992206825686925\n",
      "RMSE of a dummy regressor is 8330.20018741882\n"
     ]
    }
   ],
   "source": [
    "dummy = DummyRegressor(strategy='mean')\n",
    "dummy.fit(X_train, y_train)\n",
    "y_dummy_pred = dummy.predict(X_valid)\n",
    "print(f'R2 of a dummy regressor is {r2_score(y_valid, y_dummy_pred)}')\n",
    "print(f'RMSE of a dummy regressor is {\n",
    "      mean_squared_error(y_valid, y_dummy_pred) ** 0.5}')"
   ]
  },
  {
   "cell_type": "markdown",
   "metadata": {},
   "source": [
    "Zastosujemy regresję linijową jako high-bias/low-variance model. "
   ]
  },
  {
   "cell_type": "code",
   "execution_count": 173,
   "metadata": {},
   "outputs": [
    {
     "name": "stdout",
     "output_type": "stream",
     "text": [
      "R2 of a linear regressor is -69750433.97875652\n",
      "RMSE of a linear regressor is 69484330.38397329\n"
     ]
    }
   ],
   "source": [
    "linear_regressor = LinearRegression()\n",
    "lin_reg = linear_regressor.fit(X_train, y_train)\n",
    "y_lin_reg_pred = lin_reg.predict(X_valid)\n",
    "print(f'R2 of a linear regressor is {r2_score(y_valid, y_lin_reg_pred)}')\n",
    "print(f'RMSE of a linear regressor is {\n",
    "      mean_squared_error(y_valid, y_lin_reg_pred) ** 0.5}')"
   ]
  },
  {
   "cell_type": "markdown",
   "metadata": {},
   "source": [
    "Zastosujemy regresję typu low bias/high variance poprzez zastosowanie drzew decyzyjnych."
   ]
  },
  {
   "cell_type": "code",
   "execution_count": 174,
   "metadata": {},
   "outputs": [
    {
     "name": "stdout",
     "output_type": "stream",
     "text": [
      "R2 of a tree regressor is -0.048315353133611794\n",
      "RMSE of a dummy regressor is 8518.42667846944\n"
     ]
    }
   ],
   "source": [
    "regression_tree = DecisionTreeRegressor()\n",
    "regression_tree.fit(X_train, y_train)\n",
    "y_tree_pred = regression_tree.predict(X_valid)\n",
    "print(f'R2 of a tree regressor is {r2_score(y_valid, y_tree_pred)}')\n",
    "print(f'RMSE of a dummy regressor is {\n",
    "      mean_squared_error(y_valid, y_tree_pred) ** 0.5}')"
   ]
  },
  {
   "cell_type": "markdown",
   "metadata": {},
   "source": [
    "To już nie aż tak źle. Sprobujmy znaleźć hyperparametry."
   ]
  },
  {
   "cell_type": "code",
   "execution_count": 178,
   "metadata": {},
   "outputs": [
    {
     "ename": "SyntaxError",
     "evalue": "unmatched '}' (830145986.py, line 2)",
     "output_type": "error",
     "traceback": [
      "\u001b[0;36m  Cell \u001b[0;32mIn[178], line 2\u001b[0;36m\u001b[0m\n\u001b[0;31m    params = }\u001b[0m\n\u001b[0m             ^\u001b[0m\n\u001b[0;31mSyntaxError\u001b[0m\u001b[0;31m:\u001b[0m unmatched '}'\n"
     ]
    }
   ],
   "source": [
    "regression_tree = DecisionTreeRegressor()\n",
    "params = {'min_samples_leaf': np.arange()}\n",
    "GridSearchCV(regression_tree, {})\n",
    "regression_tree.fit(X_train, y_train)\n",
    "y_tree_pred = regression_tree.predict(X_valid)\n",
    "print(f'R2 of a tree regressor is {r2_score(y_valid, y_tree_pred)}')\n",
    "print(f'RMSE of a dummy regressor is {\n",
    "      mean_squared_error(y_valid, y_tree_pred) ** 0.5}')"
   ]
  },
  {
   "cell_type": "code",
   "execution_count": 175,
   "metadata": {},
   "outputs": [
    {
     "name": "stdout",
     "output_type": "stream",
     "text": [
      "Learning rate set to 0.052596\n",
      "0:\tlearn: 8275.7432486\ttotal: 33.6ms\tremaining: 33.6s\n",
      "100:\tlearn: 5806.7930273\ttotal: 1.56s\tremaining: 13.9s\n",
      "200:\tlearn: 5110.9191694\ttotal: 3.1s\tremaining: 12.3s\n",
      "300:\tlearn: 4352.1037486\ttotal: 4.77s\tremaining: 11.1s\n",
      "400:\tlearn: 3724.6075441\ttotal: 6.3s\tremaining: 9.41s\n",
      "500:\tlearn: 3197.7115968\ttotal: 7.88s\tremaining: 7.85s\n",
      "600:\tlearn: 2769.1010924\ttotal: 9.49s\tremaining: 6.3s\n",
      "700:\tlearn: 2399.0714305\ttotal: 11.1s\tremaining: 4.75s\n",
      "800:\tlearn: 2078.0217492\ttotal: 12.8s\tremaining: 3.17s\n",
      "900:\tlearn: 1811.6126600\ttotal: 14.3s\tremaining: 1.57s\n",
      "999:\tlearn: 1585.7002663\ttotal: 15.8s\tremaining: 0us\n"
     ]
    },
    {
     "data": {
      "text/plain": [
       "<catboost.core.CatBoostRegressor at 0x198c71220>"
      ]
     },
     "execution_count": 175,
     "metadata": {},
     "output_type": "execute_result"
    }
   ],
   "source": [
    "from catboost import CatBoostRegressor\n",
    "cb_regression = CatBoostRegressor(loss_function='RMSE')\n",
    "cb_regression.fit(X_train, y_train, verbose=100)"
   ]
  },
  {
   "cell_type": "code",
   "execution_count": 176,
   "metadata": {},
   "outputs": [
    {
     "name": "stdout",
     "output_type": "stream",
     "text": [
      "R2 of a catboost regressor is 0.47620939767972326\n",
      "RMSE of a catboost regressor is 6021.327755362033\n"
     ]
    }
   ],
   "source": [
    "y_cb_pred = cb_regression.predict(X_valid)\n",
    "print(f'R2 of a catboost regressor is {r2_score(y_valid, y_cb_pred)}')\n",
    "print(f'RMSE of a catboost regressor is {\n",
    "      mean_squared_error(y_valid, y_cb_pred) ** 0.5}')"
   ]
  }
 ],
 "metadata": {
  "kernelspec": {
   "display_name": "AGH_default",
   "language": "python",
   "name": "python3"
  },
  "language_info": {
   "codemirror_mode": {
    "name": "ipython",
    "version": 3
   },
   "file_extension": ".py",
   "mimetype": "text/x-python",
   "name": "python",
   "nbconvert_exporter": "python",
   "pygments_lexer": "ipython3",
   "version": "3.12.2"
  }
 },
 "nbformat": 4,
 "nbformat_minor": 2
}
